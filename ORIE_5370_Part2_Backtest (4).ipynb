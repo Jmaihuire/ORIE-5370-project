{
 "cells": [
  {
   "cell_type": "code",
   "execution_count": 2,
   "metadata": {
    "collapsed": true
   },
   "outputs": [],
   "source": [
    "# The codes for the backtest system contains a large proportion\n",
    "# transformed from the matlab codes in the homework. \n",
    "# Most original comments are remained for the Markowitz part.\n",
    "# In the Black Litterman part, to avoid redundancy, only the things\n",
    "# different from Markowitz have comments. \n",
    "# Comments following \"#//\" are codes used to debug only. They can be \n",
    "# totally ignored.\n",
    "\n",
    "##########################################\n",
    "#### * #######  PREPARAION  ####### * ####\n",
    "##########################################\n",
    "\n",
    "import pandas as pd\n",
    "import glob\n",
    "import numpy as np\n",
    "import matplotlib.pyplot as plt\n",
    "from cvxpy import *"
   ]
  },
  {
   "cell_type": "code",
   "execution_count": 2,
   "metadata": {
    "collapsed": true
   },
   "outputs": [],
   "source": [
    "# Import data and store them in matrices\n",
    "risk_free_rate = pd.read_csv(r'D:\\DGS3MO_daily.csv', index_col=0, header=0)\n",
    "risk_free_rate = np.array(risk_free_rate)\n",
    "Price = pd.read_csv(r'D:\\new_price_com_mat.csv', index_col=0, header=0)\n",
    "Price = np.mat(Price)\n",
    "nc = Price.shape[1] # number of columns"
   ]
  },
  {
   "cell_type": "code",
   "execution_count": 3,
   "metadata": {
    "collapsed": true
   },
   "outputs": [],
   "source": [
    "Super = pd.read_csv(r'D:\\new_super_big_data.csv', index_col=0, header=0)\n",
    "Returns = np.mat(Super.iloc[:,range(120,120+30,1)])\n",
    "Variance = np.mat(Super.iloc[:,range(0,0+nc*3,3)])\n",
    "Skewness = np.mat(Super.iloc[:,range(1,1+nc*3,3)])\n",
    "Kurtosis = np.mat(Super.iloc[:,range(2,2+nc*3,3)])"
   ]
  },
  {
   "cell_type": "code",
   "execution_count": 5,
   "metadata": {},
   "outputs": [
    {
     "ename": "ValueError",
     "evalue": "unsupported pickle protocol: 3",
     "output_type": "error",
     "traceback": [
      "\u001b[1;31m\u001b[0m",
      "\u001b[1;31mValueError\u001b[0mTraceback (most recent call last)",
      "\u001b[1;32m<ipython-input-5-d6bc3947783d>\u001b[0m in \u001b[0;36m<module>\u001b[1;34m()\u001b[0m\n\u001b[0;32m      1\u001b[0m \u001b[1;32mimport\u001b[0m \u001b[0mpickle\u001b[0m\u001b[1;33m\u001b[0m\u001b[0m\n\u001b[0;32m      2\u001b[0m \u001b[1;32mwith\u001b[0m \u001b[0mopen\u001b[0m\u001b[1;33m(\u001b[0m\u001b[1;34m'./weekly_panel_matrices'\u001b[0m\u001b[1;33m,\u001b[0m \u001b[1;34m'rb'\u001b[0m\u001b[1;33m)\u001b[0m \u001b[1;32mas\u001b[0m \u001b[0mf\u001b[0m\u001b[1;33m:\u001b[0m\u001b[1;33m\u001b[0m\u001b[0m\n\u001b[1;32m----> 3\u001b[1;33m     \u001b[0mpickle\u001b[0m\u001b[1;33m.\u001b[0m\u001b[0mload\u001b[0m\u001b[1;33m(\u001b[0m\u001b[0mf\u001b[0m\u001b[1;33m)\u001b[0m\u001b[1;33m\u001b[0m\u001b[0m\n\u001b[0m",
      "\u001b[1;32mC:\\ProgramData\\Anaconda2\\lib\\pickle.pyc\u001b[0m in \u001b[0;36mload\u001b[1;34m(file)\u001b[0m\n\u001b[0;32m   1382\u001b[0m \u001b[1;33m\u001b[0m\u001b[0m\n\u001b[0;32m   1383\u001b[0m \u001b[1;32mdef\u001b[0m \u001b[0mload\u001b[0m\u001b[1;33m(\u001b[0m\u001b[0mfile\u001b[0m\u001b[1;33m)\u001b[0m\u001b[1;33m:\u001b[0m\u001b[1;33m\u001b[0m\u001b[0m\n\u001b[1;32m-> 1384\u001b[1;33m     \u001b[1;32mreturn\u001b[0m \u001b[0mUnpickler\u001b[0m\u001b[1;33m(\u001b[0m\u001b[0mfile\u001b[0m\u001b[1;33m)\u001b[0m\u001b[1;33m.\u001b[0m\u001b[0mload\u001b[0m\u001b[1;33m(\u001b[0m\u001b[1;33m)\u001b[0m\u001b[1;33m\u001b[0m\u001b[0m\n\u001b[0m\u001b[0;32m   1385\u001b[0m \u001b[1;33m\u001b[0m\u001b[0m\n\u001b[0;32m   1386\u001b[0m \u001b[1;32mdef\u001b[0m \u001b[0mloads\u001b[0m\u001b[1;33m(\u001b[0m\u001b[0mstr\u001b[0m\u001b[1;33m)\u001b[0m\u001b[1;33m:\u001b[0m\u001b[1;33m\u001b[0m\u001b[0m\n",
      "\u001b[1;32mC:\\ProgramData\\Anaconda2\\lib\\pickle.pyc\u001b[0m in \u001b[0;36mload\u001b[1;34m(self)\u001b[0m\n\u001b[0;32m    862\u001b[0m             \u001b[1;32mwhile\u001b[0m \u001b[1;36m1\u001b[0m\u001b[1;33m:\u001b[0m\u001b[1;33m\u001b[0m\u001b[0m\n\u001b[0;32m    863\u001b[0m                 \u001b[0mkey\u001b[0m \u001b[1;33m=\u001b[0m \u001b[0mread\u001b[0m\u001b[1;33m(\u001b[0m\u001b[1;36m1\u001b[0m\u001b[1;33m)\u001b[0m\u001b[1;33m\u001b[0m\u001b[0m\n\u001b[1;32m--> 864\u001b[1;33m                 \u001b[0mdispatch\u001b[0m\u001b[1;33m[\u001b[0m\u001b[0mkey\u001b[0m\u001b[1;33m]\u001b[0m\u001b[1;33m(\u001b[0m\u001b[0mself\u001b[0m\u001b[1;33m)\u001b[0m\u001b[1;33m\u001b[0m\u001b[0m\n\u001b[0m\u001b[0;32m    865\u001b[0m         \u001b[1;32mexcept\u001b[0m \u001b[0m_Stop\u001b[0m\u001b[1;33m,\u001b[0m \u001b[0mstopinst\u001b[0m\u001b[1;33m:\u001b[0m\u001b[1;33m\u001b[0m\u001b[0m\n\u001b[0;32m    866\u001b[0m             \u001b[1;32mreturn\u001b[0m \u001b[0mstopinst\u001b[0m\u001b[1;33m.\u001b[0m\u001b[0mvalue\u001b[0m\u001b[1;33m\u001b[0m\u001b[0m\n",
      "\u001b[1;32mC:\\ProgramData\\Anaconda2\\lib\\pickle.pyc\u001b[0m in \u001b[0;36mload_proto\u001b[1;34m(self)\u001b[0m\n\u001b[0;32m    890\u001b[0m         \u001b[0mproto\u001b[0m \u001b[1;33m=\u001b[0m \u001b[0mord\u001b[0m\u001b[1;33m(\u001b[0m\u001b[0mself\u001b[0m\u001b[1;33m.\u001b[0m\u001b[0mread\u001b[0m\u001b[1;33m(\u001b[0m\u001b[1;36m1\u001b[0m\u001b[1;33m)\u001b[0m\u001b[1;33m)\u001b[0m\u001b[1;33m\u001b[0m\u001b[0m\n\u001b[0;32m    891\u001b[0m         \u001b[1;32mif\u001b[0m \u001b[1;32mnot\u001b[0m \u001b[1;36m0\u001b[0m \u001b[1;33m<=\u001b[0m \u001b[0mproto\u001b[0m \u001b[1;33m<=\u001b[0m \u001b[1;36m2\u001b[0m\u001b[1;33m:\u001b[0m\u001b[1;33m\u001b[0m\u001b[0m\n\u001b[1;32m--> 892\u001b[1;33m             \u001b[1;32mraise\u001b[0m \u001b[0mValueError\u001b[0m\u001b[1;33m,\u001b[0m \u001b[1;34m\"unsupported pickle protocol: %d\"\u001b[0m \u001b[1;33m%\u001b[0m \u001b[0mproto\u001b[0m\u001b[1;33m\u001b[0m\u001b[0m\n\u001b[0m\u001b[0;32m    893\u001b[0m     \u001b[0mdispatch\u001b[0m\u001b[1;33m[\u001b[0m\u001b[0mPROTO\u001b[0m\u001b[1;33m]\u001b[0m \u001b[1;33m=\u001b[0m \u001b[0mload_proto\u001b[0m\u001b[1;33m\u001b[0m\u001b[0m\n\u001b[0;32m    894\u001b[0m \u001b[1;33m\u001b[0m\u001b[0m\n",
      "\u001b[1;31mValueError\u001b[0m: unsupported pickle protocol: 3"
     ]
    }
   ],
   "source": [
    "import pickle\n",
    "with open('./weekly_panel_matrices', 'rb') as f:\n",
    "    pickle.load(f)"
   ]
  },
  {
   "cell_type": "code",
   "execution_count": 4,
   "metadata": {
    "collapsed": true
   },
   "outputs": [],
   "source": [
    "# # The random signal here is only used to test whether the system works, it can be replaced by any signal.\n",
    "# random_signal = np.random.uniform(20,100,1255*30)\n",
    "# random_signal = random_signal.reshape([1255,30])\n",
    "# random_signal = pd.DataFrame(random_signal,columns=range(1,31,1),index=range(1,1256,1))\n",
    "# random_signal = np.mat(random_signal)"
   ]
  },
  {
   "cell_type": "code",
   "execution_count": 5,
   "metadata": {
    "collapsed": true
   },
   "outputs": [],
   "source": [
    "##########################################\n",
    "#### * ########  FUNCTION  ######## * ####\n",
    "##########################################\n",
    "\n",
    "# Turn the signal matrix into a ranking matrix where the value for each entry \n",
    "# refers to the ranking of of the asset's signal among all assets' signals in\n",
    "# the specific period.\n",
    "# In the output matrix, each row will look like 3,24,1,535,12,18... the 3 here\n",
    "# means the first asset has the third smallest signal in that period.\n",
    "def ranking(signal_matrix):\n",
    "    rank_matrix = np.zeros(signal_matrix.shape)\n",
    "    rank_matrix = np.mat(rank_matrix)\n",
    "    #rank_matrix\n",
    "    nc = signal_matrix.size/len(signal_matrix)\n",
    "    for i in range(len(signal_matrix)):\n",
    "        data_list = np.matrix.tolist(signal_matrix[i,:])[0]\n",
    "        element_list = np.matrix.tolist(signal_matrix[i,:])[0]\n",
    "        element_list.sort()  # list the signal values of each date from small to large\n",
    "        rank_index=range(30)\n",
    "        r=1  # rank 1 has the smallest signal value\n",
    "        while(len(element_list)!=0):        \n",
    "            for j in range(nc):\n",
    "                if(min(element_list)==data_list[j]):\n",
    "                    rank_matrix[i,j] = r\n",
    "                    del element_list[0]\n",
    "                    r=r+1\n",
    "                    break\n",
    "                    \n",
    "    return rank_matrix         "
   ]
  },
  {
   "cell_type": "code",
   "execution_count": 6,
   "metadata": {
    "collapsed": true
   },
   "outputs": [],
   "source": [
    "# Very similar to the ranking function above. The only difference is that here signal \n",
    "# values are sorted and divided into groups, where assets in each group has the same \n",
    "# groupranking.\n",
    "# In the output matrix, a row may look like 1,1,5,2,2,4,3,3..., which means the first \n",
    "# and second assets are in the group with smallest signal values.\n",
    "# PRECONDITION: number_of_colmns%number_of_groups==0 \n",
    "def ngroupranking(signal_matrix,number_of_groups):\n",
    "    rank_matrix = np.zeros(signal_matrix.shape)\n",
    "    grouprank_matrix = np.zeros(signal_matrix.shape)\n",
    "    #print rank_matrix.dtype\n",
    "    rank_matrix = np.mat(rank_matrix)\n",
    "    grouprank_matrix = np.mat(grouprank_matrix)\n",
    "    #rank_matrix\n",
    "    nc = signal_matrix.size/len(signal_matrix)\n",
    "    distance = nc/number_of_groups\n",
    "    for i in range(len(signal_matrix)):\n",
    "        data_list = np.matrix.tolist(signal_matrix[i,:])[0]\n",
    "        element_list = np.matrix.tolist(signal_matrix[i,:])[0]\n",
    "        element_list.sort() \n",
    "        rank_index=range(30)\n",
    "        r=1\n",
    "        while(len(element_list)!=0):        \n",
    "            for j in range(nc):\n",
    "                if(min(element_list)==data_list[j]):\n",
    "                    rank_matrix[i,j] = r\n",
    "                    grouprank_matrix[i,j] = float(int(r-1)/int(distance)+1)\n",
    "                    del element_list[0]\n",
    "                    r=r+1\n",
    "                    break\n",
    "                    \n",
    "    return rank_matrix,grouprank_matrix  \n",
    "\n",
    "#// test = ngroupranking(Skewness,3)[1]\n",
    "#// for i in range(1000):\n",
    "    #// for j in range(20):\n",
    "        #// if (test[i,j]!=1.0 and test[i,j]!=2.0 and test[i,j]!=3.0):\n",
    "            #// print i,j,test[i,j]"
   ]
  },
  {
   "cell_type": "code",
   "execution_count": 7,
   "metadata": {
    "collapsed": true
   },
   "outputs": [],
   "source": [
    "test = ngroupranking(Skewness,2)[1]"
   ]
  },
  {
   "cell_type": "code",
   "execution_count": 8,
   "metadata": {},
   "outputs": [
    {
     "data": {
      "text/plain": [
       "matrix([[ 2.,  2.,  2.,  2.,  2.,  2.,  1.,  2.,  1.,  1.,  1.,  1.,  1.,\n",
       "          1.,  2.,  2.,  1.,  2.,  2.,  1.,  1.,  2.,  2.,  2.,  2.,  1.,\n",
       "          1.,  1.,  1.,  1.]])"
      ]
     },
     "execution_count": 8,
     "metadata": {},
     "output_type": "execute_result"
    }
   ],
   "source": [
    "test[0]"
   ]
  },
  {
   "cell_type": "code",
   "execution_count": 9,
   "metadata": {
    "collapsed": true
   },
   "outputs": [],
   "source": [
    "#Calculate mu and V\n",
    "##### PRECONDITION: sample_frequency*number_of_samples < trade_date  \n",
    "def adapted_stats(Price,trade_date,horizon,sample_frequency,number_of_samples,rate_of_decay):  \n",
    "    h = horizon \n",
    "    P = Price # the Price matrix, each row refer to a date and each column refers to an asset\n",
    "    t_d = trade_date # the date you trade, 0,1,2...\n",
    "    s_f = sample_frequency \n",
    "    n_s = number_of_samples\n",
    "    r_d = rate_of_decay\n",
    "\n",
    "    s_d = t_d-1-np.arange(n_s+1)*s_f # reverse chronological   \n",
    "    s_d = s_d[::-1] # chronological    \n",
    "        # sample dates, a row vector\n",
    "\n",
    "    S_P = P[s_d,:] # Sample Prices, a matrix\n",
    "    S_C_R = np.log(S_P[1:,:]/S_P[:-1,:]) #Sample Compound Returns, a matrix\n",
    "    \n",
    "    # Now it ’s time to construct the weight\n",
    "    w = (1.0-float(r_d))**np.arange(1,n_s+1)\n",
    "    w = w[::-1]\n",
    "    w = w/sum(w)\n",
    "    wt = np.transpose([w])  #weights, a non-negative vector that sums to 1\n",
    "    mean_c_r = S_C_R.T*wt  #mean vector of compound returns\n",
    "    Cov_C_R = (S_C_R.T*np.diag(w)*S_C_R)-mean_c_r*np.transpose([mean_c_r])\n",
    "    # covariance matrix of compound returns\n",
    "\n",
    "    adapted_mean_c_r = mean_c_r*(float(h)/float(s_f))\n",
    "    # adapting mean vector to reflect length of holding period\n",
    "    \n",
    "    Adapted_Cov_C_R = Cov_C_R*(float(h)/float(s_f))\n",
    "    # adapting covariance matrix to length of holding period\n",
    "\n",
    "    muu = np.exp(adapted_mean_c_r + 0.5*np.mat(np.diag(Adapted_Cov_C_R)).T)\n",
    "    mu = muu - 1 # resulting mean vector of ARITHMETIC returns\n",
    "    \n",
    "    V = np.multiply((muu*np.transpose([muu.T])),(np.exp(Adapted_Cov_C_R)-1))\n",
    "    # resulting covariance matrix of ARITHMETIC returns   \n",
    "    \n",
    "    return mu,V"
   ]
  },
  {
   "cell_type": "code",
   "execution_count": 10,
   "metadata": {
    "collapsed": true
   },
   "outputs": [],
   "source": [
    "# This function takes in a groupranking signal matrix and remains only \n",
    "# the group investor believe will outperform the market, with a coefficient\n",
    "# 1 for each the assets in that group and 0 for others.\n",
    "# Each row looks like 0,0,0,1,1,0,1,...\n",
    "# PRECONDITION: outperforming_ranking is an integer existing in the GroupSignal\n",
    "def view_ranking_signal(GroupSignal,outperforming_ranking):\n",
    "    view_rank = GroupSignal\n",
    "    for i in range(view_rank.shape[0]):\n",
    "        for j in range(view_rank.shape[1]):\n",
    "            if (view_rank[i,j]!=outperforming_ranking):\n",
    "                view_rank[i,j] = 0\n",
    "    view_rank = view_rank/outperforming_ranking\n",
    "    \n",
    "    return view_rank"
   ]
  },
  {
   "cell_type": "code",
   "execution_count": 11,
   "metadata": {
    "collapsed": true
   },
   "outputs": [],
   "source": [
    "## test, view_ranking_signal(GroupSignal,outperforming_ranking)\n",
    "# // testx = [[1,3,2,4,5],[2,3,4,1,5],[2,4,5,1,3]]\n",
    "# // testx = np.mat(testx)\n",
    "# // testx\n",
    "# // view_ranking_signal(testx,3)"
   ]
  },
  {
   "cell_type": "code",
   "execution_count": 12,
   "metadata": {
    "collapsed": true
   },
   "outputs": [],
   "source": [
    "# This function can be regarded as an additional stats function for the Black Litterman model,\n",
    "# which shows the investor views through three outputs: A, Omega(which is U in lecture notes, \n",
    "# but we have used \"U\" for cholesky factorization, so we use another name here), and b.\n",
    "# At1,At2,At3 are integers among 1,2,3, which refers to the outperforming_ranking in the \n",
    "# above view_ranking_signal function.\n",
    "# PRECONDITION: Signal1, Signal2, Signal3 are of the same size.\n",
    "def hybrid_investor_view(Signal1,Signal2,Signal3,At1,At2,At3,Returns,trade_date,signal_sample_frequency,number_of_signal_samples,rate_of_signal_decay):\n",
    "    S1 = Signal1 # the Signal matrix, each row refer to a date and each column refers to an asset\n",
    "    S2 = Signal2\n",
    "    S3 = Signal3\n",
    "    \n",
    "    R = Returns\n",
    "    t_d = trade_date\n",
    "    s_f = signal_sample_frequency\n",
    "    n_s = number_of_signal_samples\n",
    "    r_d = rate_of_signal_decay\n",
    " \n",
    "    s_d = t_d-1-np.arange(n_s)*s_f\n",
    "    s_d = s_d[::-1]    \n",
    "\n",
    "    S_S1 = S1[s_d,:] #Sample Signals, a matrix\n",
    "    S_S2 = S2[s_d,:]\n",
    "    S_S3 = S3[s_d,:]\n",
    "\n",
    "    S_R = R[s_d,:] #Sample Returns\n",
    "\n",
    "    w = (1.0-float(r_d))**np.arange(n_s)\n",
    "    w = w[::-1]\n",
    "    w = w/sum(w)\n",
    "    wt = np.transpose([w])\n",
    "    mean_c_r1 = S_S1.T*wt\n",
    "    mean_c_r2 = S_S2.T*wt\n",
    "    mean_c_r3 = S_S3.T*wt\n",
    "    #// print mean_c_r.T\n",
    "    GroupSignal1 = ngroupranking(mean_c_r1.T,3)[1].T\n",
    "    GroupSignal2 = ngroupranking(mean_c_r2.T,3)[1].T\n",
    "    GroupSignal3 = ngroupranking(mean_c_r3.T,3)[1].T\n",
    "    view_rank1 = view_ranking_signal(GroupSignal1,At1)\n",
    "    view_rank2 = view_ranking_signal(GroupSignal2,At2)\n",
    "    view_rank3 = view_ranking_signal(GroupSignal3,At3)\n",
    "    #// print ngroupranking(mean_c_r.T,3)[1].dtype\n",
    "    #// print mean_c_r.dtype\n",
    "    #// print view_rank.dtype\n",
    "    #// print view_rank\n",
    "    var_signal1 = np.var(S_S1) # the variance of all signal values in the samples \n",
    "    var_signal2 = np.var(S_S2)\n",
    "    var_signal3 = np.var(S_S3) \n",
    "    A1 = view_rank1.T\n",
    "    A2 = view_rank2.T\n",
    "    A3 = view_rank3.T\n",
    "    A = np.mat([np.ndarray.tolist(A1[0])[0],np.ndarray.tolist(A2[0])[0],np.ndarray.tolist(A3[0])[0]])\n",
    "    Omega = np.mat(np.diag([var_signal1,var_signal2,var_signal3]))    \n",
    "    b1 = np.sum(S_R*A1.T)\n",
    "    b2 = np.sum(S_R*A2.T)\n",
    "    b3 = np.sum(S_R*A3.T)    \n",
    "    b = np.mat([b1,b2,b3]).T\n",
    "    \n",
    "    return A,Omega,b\n",
    "#// atest = investor_view(Skewness,Returns,120,1,5,0)[0]"
   ]
  },
  {
   "cell_type": "code",
   "execution_count": 13,
   "metadata": {
    "collapsed": true
   },
   "outputs": [],
   "source": [
    "# This function can be regarded as an additional stats function for the Black Litterman model,\n",
    "# which shows the investor views through three outputs: A, Omega(which is U in lecture notes, \n",
    "# but we have used \"U\" for cholesky factorization, so we use another name here), and b.\n",
    "# At1,At2 are integers among 1,2, which refers to the outperforming_ranking in the \n",
    "# above view_ranking_signal function.\n",
    "# PRECONDITION: Signal1, Signal2  are of the same size.\n",
    "\n",
    "def double_investor_view(Signal1,Signal2,At1,At2,Returns,trade_date,signal_sample_frequency,number_of_signal_samples,rate_of_signal_decay):\n",
    "    S1 = Signal1 # the Signal matrix, each row refer to a date and each column refers to an asset\n",
    "    S2 = Signal2\n",
    "    \n",
    "    R = Returns\n",
    "    t_d = trade_date\n",
    "    s_f = signal_sample_frequency\n",
    "    n_s = number_of_signal_samples\n",
    "    r_d = rate_of_signal_decay\n",
    " \n",
    "    s_d = t_d-1-np.arange(n_s)*s_f\n",
    "    s_d = s_d[::-1]    \n",
    "\n",
    "    S_S1 = S1[s_d,:] #Sample Signals, a matrix\n",
    "    S_S2 = S2[s_d,:]\n",
    "\n",
    "    S_R = R[s_d,:] #Sample Returns\n",
    "\n",
    "    w = (1.0-float(r_d))**np.arange(n_s)\n",
    "    w = w[::-1]\n",
    "    w = w/sum(w)\n",
    "    wt = np.transpose([w])\n",
    "    mean_c_r1 = S_S1.T*wt\n",
    "    mean_c_r2 = S_S2.T*wt\n",
    "    \n",
    "    \n",
    "    #print mean_c_r1.T\n",
    "    \n",
    "    GroupSignal1 = ngroupranking(mean_c_r1.T,3)[1].T\n",
    "    GroupSignal2 = ngroupranking(mean_c_r2.T,3)[1].T\n",
    "    view_rank1 = view_ranking_signal(GroupSignal1,At1)\n",
    "    view_rank2 = view_ranking_signal(GroupSignal2,At2)\n",
    "    \n",
    "    #print GroupSignal1\n",
    "    #print view_rank1\n",
    "    #print ngroupranking(mean_c_r1.T,3)[1]\n",
    "    #// print mean_c_r.dtype\n",
    "    #// print view_rank.dtype\n",
    "    #// print view_rank\n",
    "    var_signal1 = np.var(S_S1) # the variance of all signal values in the samples \n",
    "    var_signal2 = np.var(S_S2)\n",
    "    \n",
    "    A1 = view_rank1.T\n",
    "    A2 = view_rank2.T\n",
    "    \n",
    "    #print A1\n",
    "    \n",
    "    A = np.mat([np.ndarray.tolist(A1[0])[0],np.ndarray.tolist(A2[0])[0]])\n",
    "    Omega = np.mat(np.diag([var_signal1,var_signal2]))    \n",
    "    b1 = np.sum(S_R*A1.T)\n",
    "    b2 = np.sum(S_R*A2.T)   \n",
    "    b = np.mat([b1,b2]).T\n",
    "    \n",
    "    return A,Omega,b"
   ]
  },
  {
   "cell_type": "code",
   "execution_count": 14,
   "metadata": {
    "collapsed": true
   },
   "outputs": [],
   "source": [
    "# This function can be regarded as an additional stats function for the Black Litterman model,\n",
    "# which shows the investor views through three outputs: A, Omega(which is U in lecture notes, \n",
    "# but we have used \"U\" for cholesky factorization, so we use another name here), and b.\n",
    "# At1,At2 are integers among 1,2, which refers to the outperforming_ranking in the \n",
    "# above view_ranking_signal function.\n",
    "# PRECONDITION: Signal1, Signal2  are of the same size.\n",
    "\n",
    "def single_investor_view(Signal1,At1,Returns,trade_date,signal_sample_frequency,number_of_signal_samples,rate_of_signal_decay):\n",
    "    S1 = Signal1 # the Signal matrix, each row refer to a date and each column refers to an asset\n",
    "    \n",
    "    R = Returns\n",
    "    t_d = trade_date\n",
    "    s_f = signal_sample_frequency\n",
    "    n_s = number_of_signal_samples\n",
    "    r_d = rate_of_signal_decay\n",
    " \n",
    "    s_d = t_d-1-np.arange(n_s)*s_f\n",
    "    s_d = s_d[::-1]    \n",
    "\n",
    "    S_S1 = S1[s_d,:] #Sample Signals, a matrix\n",
    "\n",
    "    S_R = R[s_d,:] #Sample Returns\n",
    "\n",
    "    w = (1.0-float(r_d))**np.arange(n_s)\n",
    "    w = w[::-1]\n",
    "    w = w/sum(w)\n",
    "    wt = np.transpose([w])\n",
    "    mean_c_r1 = S_S1.T*wt\n",
    "    \n",
    "    \n",
    "    #print mean_c_r1.T\n",
    "    \n",
    "    GroupSignal1 = ngroupranking(mean_c_r1.T,3)[1].T\n",
    "    view_rank1 = view_ranking_signal(GroupSignal1,At1)\n",
    "    \n",
    "    #print GroupSignal1\n",
    "    #print view_rank1\n",
    "    #print ngroupranking(mean_c_r1.T,3)[1]\n",
    "    #// print mean_c_r.dtype\n",
    "    #// print view_rank.dtype\n",
    "    #// print view_rank\n",
    "    var_signal1 = np.var(S_S1) # the variance of all signal values in the samples \n",
    "    \n",
    "    A1 = view_rank1.T\n",
    "    \n",
    "    #print A1\n",
    "    \n",
    "    A = np.mat(A1)\n",
    "    Omega = np.mat(np.diag([var_signal1]))    \n",
    "    b1 = np.sum(S_R*A1.T)\n",
    "    b = np.mat([b1]).T\n",
    "    \n",
    "    return A,Omega,b"
   ]
  },
  {
   "cell_type": "code",
   "execution_count": 15,
   "metadata": {
    "collapsed": true
   },
   "outputs": [],
   "source": [
    "#atest = double_investor_view(Skewness,Returns,120,1,5,0)[0]\n",
    "#atest=double_investor_view(Signal1,Signal2,At1,At2,Returns,trade_date,signal_sample_frequency,number_of_signal_samples,rate_of_signal_decay)"
   ]
  },
  {
   "cell_type": "code",
   "execution_count": 16,
   "metadata": {
    "collapsed": true
   },
   "outputs": [],
   "source": [
    "#atest"
   ]
  },
  {
   "cell_type": "code",
   "execution_count": 17,
   "metadata": {
    "collapsed": true
   },
   "outputs": [],
   "source": [
    "# A simple version of the above function where only one signal is considered.\n",
    "# When introducing the Signal matrix, the assumption is: Smaller skewness, better asset.\n",
    "def investor_view(Signal,Returns,trade_date,signal_sample_frequency,number_of_signal_samples,rate_of_signal_decay):\n",
    "    S = Signal # the Signal matrix, each row refer to a date and each column refers to an asset\n",
    "    R = Returns\n",
    "    t_d = trade_date\n",
    "    s_f = signal_sample_frequency\n",
    "    n_s = number_of_signal_samples\n",
    "    r_d = rate_of_signal_decay\n",
    " \n",
    "    s_d = t_d-1-np.arange(n_s)*s_f\n",
    "    s_d = s_d[::-1]    \n",
    "\n",
    "    S_S = S[s_d,:] #Sample Signals, a matrix\n",
    "    S_R = R[s_d,:] #Sample Returns\n",
    "\n",
    "    w = (1.0-float(r_d))**np.arange(n_s)\n",
    "    w = w[::-1]\n",
    "    w = w/sum(w)\n",
    "    wt = np.transpose([w])\n",
    "    mean_c_r = S_S.T*wt\n",
    "    #// print mean_c_r.T\n",
    "    view_rank = ngroupranking(mean_c_r.T,3)[1].T\n",
    "    #// print ngroupranking(mean_c_r.T,3)[1].dtype\n",
    "    #// print mean_c_r.dtype\n",
    "    #// print view_rank.dtype\n",
    "    #// print view_rank\n",
    "    view_rank = view_rank%3\n",
    "    view_rank = view_rank%2\n",
    "    ###########    View on the skewness    ########\n",
    "    skewness_small = view_rank.T\n",
    "    var_skewness = np.var(S_S)# the var of \n",
    "    A = skewness_small\n",
    "    Omega = np.mat(var_skewness)\n",
    "    b_skewness = np.sum(S_R*A.T)\n",
    "    b = np.mat(b_skewness)\n",
    "    \n",
    "    return A,Omega,b\n",
    "\n",
    "#// atest = investor_view(Skewness,Returns,120,1,5,0)[0]"
   ]
  },
  {
   "cell_type": "code",
   "execution_count": 18,
   "metadata": {
    "collapsed": true
   },
   "outputs": [],
   "source": [
    "# Calculate the optimal weight x0 for risk free asset and weight vector x\n",
    "# for risky assets under markowitz model\n",
    "def markowitz(mu0,mu,V,sigma,xx0,xx,trans_cost):\n",
    "    n = len(mu)\n",
    "    U = np.linalg.cholesky(V)\n",
    "    x0 = Variable(1)\n",
    "    x = Variable(n)\n",
    "    y = Variable(n)\n",
    "    total_trans_cost = Variable(1)\n",
    "    objective = Maximize(mu0*x0+mu.T*x)\n",
    "    constraints = [norm(U*x)<=sigma,\n",
    "                   x0+sum_entries(x)+total_trans_cost==1,\n",
    "                   x==xx+y,\n",
    "                   trans_cost*sum_entries(abs(y))<=total_trans_cost,\n",
    "                   x0>=0,\n",
    "                   max_entries(abs(x-1.0/(n+1)))<=0.05 # a little change \n",
    "                   # Alternative constraints in homework, which are not used here:\n",
    "                   # 0.05<=x,\n",
    "                   # x<=0.2,\n",
    "                   # x[1]+x[4]<=x[5]+x[6]+x[8],\n",
    "                   # sum_smallest(x,4)>=-1.25\n",
    "                   ]\n",
    "    prob = Problem(objective, constraints)\n",
    "    result = prob.solve()\n",
    "    prob.solve()  # Returns the optimal value.\n",
    "    #// print \"status:\", prob.status\n",
    "    #// print \"optimal value\", prob.value\n",
    "    #// print \"optimal var\", x.value, y.value\n",
    "    \n",
    "    return x0.value,x.value"
   ]
  },
  {
   "cell_type": "code",
   "execution_count": null,
   "metadata": {
    "collapsed": true
   },
   "outputs": [],
   "source": [
    "# Calculate the optimal weight x0 for risk free asset and weight vector x\n",
    "# for risky assets under markowitz model\n",
    "def PGP(mu0,R,V,S,K,xx0,xx,trans_cost):\n",
    "    n = len(mu)\n",
    "    U = np.linalg.cholesky(V)    \n",
    "    x0 = Variable(1)\n",
    "    x = Variable(n)\n",
    "    y = Variable(n)\n",
    "    total_trans_cost = Variable(1)\n",
    "    objective = Maximize(mu0*x0+mu.T*x)\n",
    "    constraints = [norm(U*x)<=sigma,\n",
    "                   x0+sum_entries(x)+total_trans_cost==1,\n",
    "                   x==xx+y,\n",
    "                   trans_cost*sum_entries(abs(y))<=total_trans_cost,\n",
    "                   x0>=0,\n",
    "                   max_entries(abs(x-1.0/(n+1)))<=0.05\n",
    "                   ]\n",
    "    prob = Problem(objective, constraints)\n",
    "    result = prob.solve()\n",
    "    prob.solve()\n",
    "    return x0.value,x.value"
   ]
  },
  {
   "cell_type": "code",
   "execution_count": 3,
   "metadata": {},
   "outputs": [
    {
     "data": {
      "text/plain": [
       "0.899999999848061"
      ]
     },
     "execution_count": 3,
     "metadata": {},
     "output_type": "execute_result"
    }
   ],
   "source": [
    "R = np.random.normal(0,1,10)\n",
    "R = np.arange(0,1,0.1)\n",
    "def Rmax(R):\n",
    "    n = len(R)\n",
    "    x = Variable(n)\n",
    "    objective = Maximize(R.T*x)\n",
    "    constraints = [sum_entries(x)==1,\n",
    "                   x>=0\n",
    "                   ]\n",
    "    prob = Problem(objective, constraints)\n",
    "    result = prob.solve()\n",
    "    return result\n",
    "Rmax(R)"
   ]
  },
  {
   "cell_type": "code",
   "execution_count": 24,
   "metadata": {},
   "outputs": [
    {
     "name": "stdout",
     "output_type": "stream",
     "text": [
      "[[10  3  4]\n",
      " [ 3 10  2]\n",
      " [ 4  2  8]]\n",
      "[[12  5  6]\n",
      " [ 5 12  4]\n",
      " [ 6  4 10]]\n",
      "[[9 2 3]\n",
      " [2 9 1]\n",
      " [3 1 7]]\n"
     ]
    },
    {
     "data": {
      "text/plain": [
       "1801"
      ]
     },
     "execution_count": 24,
     "metadata": {},
     "output_type": "execute_result"
    }
   ],
   "source": [
    "S = np.random.normal(0,1,9)\n",
    "S = S.reshape(3,3)\n",
    "S\n",
    "V = np.random.uniform(0,1,100)\n",
    "V = np.array([[9,2,3],[2,9,1],[3,1,7]])\n",
    "K1 = V+1\n",
    "K2 = V+3\n",
    "print K1\n",
    "print K2\n",
    "len(K)\n",
    "print V\n",
    "np.dot((V.diagonal()**2).T,V.diagonal())\n"
   ]
  },
  {
   "cell_type": "code",
   "execution_count": 99,
   "metadata": {},
   "outputs": [
    {
     "name": "stdout",
     "output_type": "stream",
     "text": [
      "[[0 0 0]\n",
      " [0 1 2]\n",
      " [0 4 8]]\n",
      "[[ 0  0  0]\n",
      " [ 0  9  2]\n",
      " [ 0  4 56]]\n",
      "71\n",
      "[[9 2 3]\n",
      " [2 9 1]\n",
      " [3 1 7]]\n",
      "[[0 0 0]\n",
      " [0 1 2]\n",
      " [0 2 4]]\n"
     ]
    },
    {
     "data": {
      "text/plain": [
       "0.13"
      ]
     },
     "execution_count": 99,
     "metadata": {},
     "output_type": "execute_result"
    }
   ],
   "source": [
    "x = np.arange(3)\n",
    "x2 = np.multiply(np.mat(x),np.mat(x))\n",
    "\n",
    "Xm = x2.T*np.mat(x)\n",
    "print Xm\n",
    "\n",
    "print np.multiply(Xm,S)\n",
    "print np.sum(np.multiply(Xm,S))\n",
    "print V\n",
    "#print np.multiply(np.dot(x2.T,x),V)\n",
    "S = V\n",
    "print np.mat(x).T*np.mat(x)\n",
    "np.dot(np.dot(np.mat(x),V),np.mat(x).T)\n",
    "R = np.array([0.12,-0.05,0.09])\n",
    "np.dot(x,R)"
   ]
  },
  {
   "cell_type": "code",
   "execution_count": 6,
   "metadata": {},
   "outputs": [
    {
     "data": {
      "text/plain": [
       "1.8607450259572496"
      ]
     },
     "execution_count": 6,
     "metadata": {},
     "output_type": "execute_result"
    }
   ],
   "source": [
    "def Vmin(V):\n",
    "    n = len(V)\n",
    "    U = np.linalg.cholesky(V) \n",
    "    x = Variable(n)\n",
    "    \n",
    "    \n",
    "    objective = Minimize(norm(U*x))\n",
    "    constraints = [sum_entries(x)==1,\n",
    "                   x>=0\n",
    "                   ]\n",
    "    prob = Problem(objective, constraints)\n",
    "    result = prob.solve()\n",
    "    return result\n",
    "Vmin(V)"
   ]
  },
  {
   "cell_type": "code",
   "execution_count": 11,
   "metadata": {
    "collapsed": true
   },
   "outputs": [],
   "source": [
    "#\n",
    "#EFERENCE: https://docs.scipy.org/doc/scipy-0.16.0/reference/generated/scipy.optimize.minimize.html\n",
    "#Rhttps://stackoverflow.com/questions/18767657/how-do-i-use-a-minimization-function-in-scipy-with-constraints\n",
    "import scipy\n",
    "from scipy.optimize import minimize"
   ]
  },
  {
   "cell_type": "code",
   "execution_count": 89,
   "metadata": {},
   "outputs": [
    {
     "data": {
      "text/plain": [
       "-8.999999999999993"
      ]
     },
     "execution_count": 89,
     "metadata": {},
     "output_type": "execute_result"
    }
   ],
   "source": [
    "def Scurrent(x,S):\n",
    "    x2 = np.multiply(np.mat(x),np.mat(x))\n",
    "    Xm = x2.T*np.mat(x)\n",
    "    x3 = np.multiply(np.multiply(np.mat(x),np.mat(x)),np.mat(x))\n",
    "    s = np.mat(S.diagonal())\n",
    "    #s3 = np.multiply(np.multiply(s,s),s)\n",
    "\n",
    "    left = float(x3*s.T)\n",
    "    right = np.sum(np.multiply(Xm,S))\n",
    "    res = -5*left+6*right\n",
    "    return res\n",
    "\n",
    "def Smax(S):\n",
    "    def Smaxob(x):\n",
    "        Max = -Scurrent(x,S)\n",
    "        return Max\n",
    "    def con(x):\n",
    "        return np.sum(x)-1\n",
    "    n = len(S)\n",
    "    x0 = np.zeros(n)\n",
    "    bnds = tuple((0,1) for x in x0)\n",
    "    cons = {'type':'eq','fun':con}\n",
    "    result = minimize(Smaxob, x0, bounds=bnds, constraints=cons).fun\n",
    "    return result\n",
    "Smax(S)"
   ]
  },
  {
   "cell_type": "code",
   "execution_count": 88,
   "metadata": {},
   "outputs": [
    {
     "data": {
      "text/plain": [
       "4.6900809488384585"
      ]
     },
     "execution_count": 88,
     "metadata": {},
     "output_type": "execute_result"
    }
   ],
   "source": [
    "def Kcurrent(x,K1,K2):\n",
    "    x2 = np.multiply(np.mat(x),np.mat(x))\n",
    "    x3 = np.multiply(np.multiply(np.mat(x),np.mat(x)),np.mat(x))\n",
    "    x4 = np.multiply(np.mat(x2),np.mat(x2))    \n",
    "    Xm1 = x3.T*np.mat(x)\n",
    "    Xm2 = np.mat(x).T*x3    \n",
    "    Xr = x2.T*x2\n",
    "\n",
    "    k = np.mat(K1.diagonal())\n",
    "    #k4 = np.multiply(np.multiply(np.multiply(k,k),k),k)\n",
    "\n",
    "    left = float(x4*k.T)\n",
    "    mid1 = np.sum(np.multiply(Xm1,K1))\n",
    "    mid2 = np.sum(np.multiply(Xm2,K1.T))\n",
    "    right = np.sum(np.multiply(Xr,K2))\n",
    "    res = -13*left+4*mid1+4*mid2+6*right\n",
    "    return res\n",
    "\n",
    "def Kmin(K1,K2):\n",
    "    def Kminob(x):\n",
    "        Min = Kcurrent(x,K1,K2)\n",
    "        return Min\n",
    "\n",
    "    def con(x):\n",
    "        return np.sum(x)-1\n",
    "    n = len(K1)\n",
    "    x0 = np.zeros(n)\n",
    "    bnds = tuple((0,1) for x in x0)\n",
    "    cons = {'type':'eq','fun':con}\n",
    "    result = minimize(Kminob, x0, bounds=bnds, constraints=cons).fun\n",
    "    return result\n",
    "Kmin(K1,K2)"
   ]
  },
  {
   "cell_type": "code",
   "execution_count": 110,
   "metadata": {},
   "outputs": [
    {
     "data": {
      "text/plain": [
       "     fun: 1.8614012999797056\n",
       "     jac: array([ 2.98178993,  2.98283367,  2.9822236 ])\n",
       " message: 'Optimization terminated successfully.'\n",
       "    nfev: 35\n",
       "     nit: 7\n",
       "    njev: 7\n",
       "  status: 0\n",
       " success: True\n",
       "       x: array([ 0.1467078 ,  0.42133065,  0.43196155])"
      ]
     },
     "execution_count": 110,
     "metadata": {},
     "output_type": "execute_result"
    }
   ],
   "source": [
    "phi1 = 2.\n",
    "phi2 = 2.\n",
    "phi3 = 2.\n",
    "phi4 = 2.\n",
    "def PGPob(x):\n",
    "    Rstar = Rmax(R)\n",
    "    Vstar = Vmin(V)\n",
    "    Sstar = Smax(S)\n",
    "    Kstar = Kmin(K1,K2)  \n",
    "    \n",
    "    Rcurrent = float(np.dot(x,R))\n",
    "    Vcurrent = float(np.dot(np.dot(np.mat(x),V),np.mat(x).T))\n",
    "    \n",
    "    d1 = Rstar-Rcurrent\n",
    "    d2 = Vstar+Vcurrent\n",
    "    d3 = Sstar-Scurrent(x,S)\n",
    "    d4 = Kstar+Kcurrent(x,K1,K2)\n",
    "    \n",
    "    Min = ((d3/Sstar))**phi3\n",
    "    #((d1/Rstar))**phi1\n",
    "           #((d2/Vstar))**phi2\n",
    "           \n",
    "           #+((d4/Kstar))**phi4)\n",
    "    return Min\n",
    "\n",
    "def con(x):\n",
    "    return np.sum(x)-1\n",
    "n = len(K1)\n",
    "x0 = np.zeros(n)\n",
    "bnds = tuple((0,1) for x in x0)\n",
    "cons = {'type':'eq','fun':con}\n",
    "result = minimize(PGPob, x0, bounds=bnds, constraints=cons)\n",
    "result"
   ]
  },
  {
   "cell_type": "code",
   "execution_count": null,
   "metadata": {
    "collapsed": true
   },
   "outputs": [],
   "source": []
  },
  {
   "cell_type": "code",
   "execution_count": null,
   "metadata": {
    "collapsed": true
   },
   "outputs": [],
   "source": []
  },
  {
   "cell_type": "code",
   "execution_count": 19,
   "metadata": {
    "collapsed": true
   },
   "outputs": [],
   "source": [
    "# Calculate the optimal weight x0 for risk free asset and weight vector x\n",
    "# for risky assets under black litterman model\n",
    "# Compared with the markowitz function, the input contains three additional\n",
    "# parameters: A, Omega(which is U in lecture notes), and b\n",
    "def blacklitterman(mu0,mu,V,sigma,xx0,xx,trans_cost,A,Omega,b,tau=1):\n",
    "    n = len(mu)\n",
    "    #// print b\n",
    "    #// print \"Omega.shape:\",Omega.shape\n",
    "    #// print \"Omegainv\",np.linalg.inv(Omega)\n",
    "    #// print \"V.shape:\",V.shape\n",
    "    #// print \"Vinv\",np.linalg.inv(V)\n",
    "    #// print Omega.dtype\n",
    "    #// print V.dtype\n",
    "    #// print A.dtype\n",
    "    #// print (A.T*np.linalg.inv(Omega)*A+np.linalg.inv(V)).shape\n",
    "    V=tau*V\n",
    "    middle = np.mat(A.T*Omega.I*A+V.I) # A intermediate variable, for computation only\n",
    "    #// print middle.dtype\n",
    "    #// middle.dtype = 'float32'\n",
    "    #// print middle.shape\n",
    "    #// print np.linalg.det(middle)\n",
    "    #// print np.linalg.det(A.T*np.linalg.inv(Omega)*A+np.linalg.inv(V))\n",
    "    W = middle.I # \".I\" and \"np.linalg.inv()\" generally have the same function of\n",
    "                 # taking inverses of matrices\n",
    "    \n",
    "    BL_mu = W*(A.T*np.linalg.inv(Omega)*b+np.linalg.inv(V)*mu) \n",
    "    \n",
    "    U = np.linalg.cholesky(W)\n",
    "\n",
    "    x0 = Variable(1)\n",
    "    x = Variable(n)\n",
    "    y = Variable(n)\n",
    "    total_trans_cost = Variable(1)\n",
    "        \n",
    "    objective = Maximize(mu0*x0+BL_mu.T*x)\n",
    "    constraints = [norm(U*x)<=sigma,\n",
    "                   x0+sum_entries(x)+total_trans_cost==1,\n",
    "                   x==xx+y,\n",
    "                   trans_cost*sum_entries(abs(y))<=total_trans_cost,\n",
    "                   x0>=0,\n",
    "                   max_entries(abs(x-1.0/(n+1)))<=0.05\n",
    "                   ]\n",
    "    prob = Problem(objective, constraints)\n",
    "    result = prob.solve()\n",
    "    prob.solve()\n",
    "    return x0.value,x.value"
   ]
  },
  {
   "cell_type": "code",
   "execution_count": 21,
   "metadata": {
    "collapsed": true
   },
   "outputs": [],
   "source": [
    "# Rebalance the benchmark at the beginning of each holding period to ensure that\n",
    "# the money are equally invested into all assets including risk free asset at the\n",
    "# very start of each period.\n",
    "def rebalance_benchmark(benchmark_x0,benchmark_x,trans_cost):\n",
    "    n = np.size(benchmark_x)\n",
    "    z = Variable(1)\n",
    "    objective = Maximize(z)\n",
    "    constraints = [(n+1)*z <= benchmark_x0+sum_entries(benchmark_x)-trans_cost*sum_entries(abs(z-benchmark_x))]\n",
    "    prob = Problem(objective, constraints)\n",
    "    result = prob.solve(solver=ECOS)\n",
    "    prob.solve()\n",
    "    return z.value"
   ]
  },
  {
   "cell_type": "code",
   "execution_count": 34,
   "metadata": {
    "collapsed": true
   },
   "outputs": [],
   "source": [
    "##########################################\n",
    "#### * ########  BACKTEST  ######## * ####\n",
    "##########################################\n",
    "\n",
    "n = np.size(Price)/len(Price) # n=number of risky assets\n",
    "e = np.ones([n,1])\n",
    "'''\n",
    "#######################\n",
    "##### PARAMETERS ######\n",
    "#######################\n",
    "'''\n",
    "# The following choices of parameters can easily be changed.\n",
    "\n",
    "\n",
    "### horizon: holding period\n",
    "#horizon = 5 # weekly rebalance\n",
    "horizon = 20 # monthly rebalance\n",
    "###\n",
    "\n",
    "##### PRECONDITION: sample_frequency*number_of_samples < trade_date\n",
    "# ### weekly rebalance\n",
    "# start = 100 # the day on which you are first given a portfolio to rebalance\n",
    "# number_rebalances = 200 # the number of times the portfolio will be rebalanced \n",
    "# number_of_samples = 20 # how many samples are to be used \n",
    "#                        # in computing return avereages and covariances\n",
    "# sample_frequency = 1 # 1 = daily, 2 = , etc.\n",
    "# ###\n",
    "\n",
    "### monthly rebalance\n",
    "start = 100 # the day on which you are first given a portfolio to rebalance\n",
    "number_rebalances = 53 # the number of times the portfolio will be rebalanced \n",
    "number_of_samples = 60 # how many samples are to be used \n",
    "                       # in computing return avereages and covariances\n",
    "sample_frequency = 1 # 1 = daily, 2 = , etc.\n",
    "###\n",
    "\n",
    "\n",
    "r_w_f_o_y_e = 0.2 # \"relative weight for one year earlier\" \n",
    "                  # -- a value .4 means that for the (exponential) weights \n",
    "                  # used in computing return averages and covariances, \n",
    "                  # the weight assigned to the time period one year ago\n",
    "                  # should be .4 times the weight assigned \n",
    "                  # to the most recent period.     \n",
    "allowable_risk = 1\n",
    "    # This is the level of risk relative to the benchmark portfolio,\n",
    "    #   where risk is measured as standard deviation of portfolio returns.\n",
    "    # Choosing this value to equal 1 means exactly the same amount of risk is allowed,\n",
    "    # whereas choosing 2 means twice as much risk is allowed as the benchmark, and so on.\n",
    "trans_cost = 0.0001  # transaction cost\n",
    "initial_wealth = 10000 # initial wealth measured in dollars, including money invested in assets\n",
    "               # (one dollar invested in an asset is considered as one dollar of wealth,\n",
    "               #  even though in liquidating the asset, transaction costs would be paid)   \n",
    "x0 = 0.3 # proportion of wealth in bank initially\n",
    "x = (0.7/n)*e # proportions in risky assets initially\n",
    "Signal1 = Variance\n",
    "Signal2 = Skewness\n",
    "Signal3 = Kurtosis\n",
    "At1 = 3\n",
    "At2 = 1\n",
    "At3 = 3\n",
    "\n",
    "\n",
    "signal_sample_frequency = 1\n",
    "number_of_signal_samples = 40 #monthly\n",
    "rate_of_signal_decay = 0\n",
    "# Assume the benchmark portfolio is initally equal-weighted, with 1/(n+1) being the \n",
    "# proportion of wealth invested in each asset and in the bank.\n",
    "#### END OF PARAMETERS"
   ]
  },
  {
   "cell_type": "code",
   "execution_count": 36,
   "metadata": {
    "collapsed": true
   },
   "outputs": [],
   "source": [
    "#######################\n",
    "###### MARKOWITZ ######\n",
    "#######################\n",
    "def runMarkowitz(printTrue,horizon=horizon,start=start,number_rebalances=number_rebalances,\n",
    "                 number_of_samples=number_of_samples,sample_frequency=sample_frequency,r_w_f_o_y_e=r_w_f_o_y_e,\n",
    "                 allowable_risk=allowable_risk,trans_cost=trans_cost,initial_wealth=initial_wealth,x0=x0,x=x):\n",
    "\n",
    "    #// rate_of_decay = 0\n",
    "    rate_of_decay = 1 - r_w_f_o_y_e**(sample_frequency/52.0)\n",
    "    benchmark_wealth = initial_wealth\n",
    "    wealth = initial_wealth\n",
    "    portfolio_value = [initial_wealth]\n",
    "    benchmark_value = [initial_wealth]\n",
    "    rebalance_dates = start + horizon*np.arange(number_rebalances)\n",
    "    rf = []\n",
    "\n",
    "    for i in range(len(rebalance_dates)):\n",
    "        trade_date = rebalance_dates[i]\n",
    "\n",
    "        ###### REBALANCE YOUR PORTFOLIO AND PAY TRANSACTION COSTS ######\n",
    "        # It is more natural to rebalance the benchmark portfolio later #\n",
    "\n",
    "        mu,V = adapted_stats(Price,trade_date,horizon,sample_frequency,number_of_samples,rate_of_decay)\n",
    "        mu0 = (1+0.01*risk_free_rate[trade_date-1])**(float(horizon)/255.0)-1\n",
    "        rf.append(mu0)\n",
    "\n",
    "        benchmark_risk = sqrt(quad_form(e,V))/(n+1)  # there are n+1 financial instruments\n",
    "                                                     # including the bank\n",
    "        sigma = allowable_risk*benchmark_risk\n",
    "\n",
    "        xx0 = x0\n",
    "        xx = x\n",
    "        #// print \"mu\", mu.T\n",
    "        x0,x =  markowitz(mu0,mu,V,sigma,xx0,xx,trans_cost)\n",
    "        #// print \"x0:\", x0\n",
    "        #// print \"x:\", x.T\n",
    "        wealth = wealth*(x0+sum(x))\n",
    "            # This is the same thing as updating your wealth by subtracting\n",
    "            # all transaction costs from the rebalancing.  Indeed, in rebalancing,\n",
    "            # the proportion of your wealth going to trans costs is 1 - x0 - sum(x).  \n",
    "\n",
    "        total = x0+sum(x)\n",
    "        x0 = x0/total\n",
    "        x = x/total\n",
    "            # Rescaling x0 and x so that the sum is 1 (i.e., proportions of current wealth)\n",
    "\n",
    "        ###### PROCEED TO END OF TIME PERIOD AND ACCOUNT FOR GAINS, LOSSES ######\n",
    "\n",
    "        returns = (Price[trade_date+horizon-1,:]-Price[trade_date-1,:])/Price[trade_date-1,:]\n",
    "            # vector of actual returns for risky assets (this is a row vector)\n",
    "\n",
    "        multiplier = 1+mu0*x0+returns*x\n",
    "        wealth = multiplier*wealth\n",
    "\n",
    "        if(wealth<=0):\n",
    "            break   # stops the program if bankruptcy occurs\n",
    "                    # Not needed for benchmark portfolio (because it is long only)\n",
    "\n",
    "        x0 = (1+mu0)*x0/multiplier\n",
    "        x = np.multiply(x,np.transpose(1+returns))/multiplier\n",
    "        # these are the proportions of current wealth invested in assets\n",
    "        # Now its time to rebalance the benchmark portfolio and pay transaction costs\n",
    "\n",
    "        benchmark_x0 = (1+mu0)/(n+1)\n",
    "        benchmark_x = (1+returns)/(n+1)\n",
    "        # This gives how the equal-weighted portfolio has changed during the time period.\n",
    "        # The initial unit of wealth has become  benchmark_x0 + sum(benchmark_x).\n",
    "        # This new level of wealth needs to be distributed equally among the assets and bank.\n",
    "        # The optimal amount z to put into each one is determined by the following function,\n",
    "        # which finds the value z so as to minimize transaction costs\n",
    "        #// print i,\"returns:\", returns\n",
    "        #// print \"benchmark_x:\",benchmark_x\n",
    "\n",
    "        z = rebalance_benchmark(benchmark_x0,benchmark_x,trans_cost) \n",
    "        benchmark_wealth = benchmark_wealth*(n+1)*z\n",
    "        #// print \"z:\",z\n",
    "\n",
    "        # Until the end of the next time period, \n",
    "        # think of the benchmark portfolio as having been rebalanced\n",
    "        # with wealth divided equally, that is, the portion of wealth invested in\n",
    "        # each asset and the bank is 1/(n+1).\n",
    "\n",
    "        portfolio_value.append(wealth)\n",
    "        benchmark_value.append(benchmark_wealth)\n",
    "\n",
    "    markowitz_ret=float(wealth/initial_wealth)**(255.0/(horizon*number_rebalances))-1\n",
    "    benchmark_annual_return = float(benchmark_wealth/initial_wealth)**(255.0/(horizon*number_rebalances))-1\n",
    "    Markowitz_wealth = wealth\n",
    "    markowitz_portfolio_value = portfolio_value\n",
    "    if (printTrue==True):\n",
    "        #print \"your final bank account:\", x0 \n",
    "        #print \"your final risky portfolio:\", x \n",
    "        print \"your final wealth:\", wealth \n",
    "        print \"benchmark final wealth:\", benchmark_wealth \n",
    "        print \"your annualized rate of return:\", markowitz_ret\n",
    "        print \"benchmark annualized rate of return:\", benchmark_annual_return\n",
    "        plt.figure(1)\n",
    "        plt.title(\"Markowitz Accumulated Wealth\")\n",
    "        plt.plot(range(len(benchmark_value)),benchmark_value,'b',label=\"benchmark\")\n",
    "        plt.plot(range(len(portfolio_value)),portfolio_value,'r',label=\"Markowitz\")\n",
    "        plt.legend()\n",
    "        plt.show()\n",
    "    return markowitz_portfolio_value"
   ]
  },
  {
   "cell_type": "code",
   "execution_count": 40,
   "metadata": {
    "collapsed": true
   },
   "outputs": [],
   "source": [
    "#######################\n",
    "### BLACK LITTERMAN ###\n",
    "#######################\n",
    "def runBlackLitterman(TAU,printTrue,num_signal,horizon=horizon,start=start,number_rebalances=number_rebalances,\n",
    "                     number_of_samples=number_of_samples,sample_frequency=sample_frequency,r_w_f_o_y_e=r_w_f_o_y_e,\n",
    "                     allowable_risk=allowable_risk,trans_cost=trans_cost,initial_wealth=initial_wealth,x0=x0,x=x,\n",
    "                      Signal1=Signal1,Signal2=Signal2,Signal3=Signal3,At1=At1,At2=At2,At3=At3,\n",
    "                      signal_sample_frequency=signal_sample_frequency,\n",
    "                      number_of_signal_samples=number_of_signal_samples,rate_of_signal_decay=rate_of_signal_decay):\n",
    "    rate_of_decay = 1 - r_w_f_o_y_e**(sample_frequency/52.0)\n",
    "    benchmark_wealth = initial_wealth\n",
    "    wealth = initial_wealth\n",
    "    portfolio_value = [initial_wealth]\n",
    "    benchmark_value = [initial_wealth]\n",
    "    rebalance_dates = start + horizon*np.arange(number_rebalances)\n",
    "    rf = []\n",
    "\n",
    "    for i in range(len(rebalance_dates)):\n",
    "        trade_date = rebalance_dates[i]\n",
    "\n",
    "        ###### REBALANCE YOUR PORTFOLIO AND PAY TRANSACTION COSTS ######\n",
    "        # Investor view is introduced by calling the investor_view function\n",
    "        #// A,Omega,b = investor_view(Signal,Returns,trade_date,signal_sample_frequency,\n",
    "        # number_of_signal_samples,rate_of_signal_decay)   \n",
    "        #A,Omega,b = hybrid_investor_view(Signal1,Signal2,Signal3,At1,At2,At3,Returns,\n",
    "        # trade_date,signal_sample_frequency,number_of_signal_samples,rate_of_signal_decay)\n",
    "        if (num_signal==2):\n",
    "            A,Omega,b = double_investor_view(Signal1,Signal2,At1,At2,Returns,trade_date,\n",
    "                                             signal_sample_frequency,number_of_signal_samples,rate_of_signal_decay)\n",
    "        elif (num_signal==3):\n",
    "            A,Omega,b = hybrid_investor_view(Signal1,Signal2,Signal3,At1,At2,At3,Returns,\n",
    "                                             trade_date,signal_sample_frequency,number_of_signal_samples,\n",
    "                                             rate_of_signal_decay)\n",
    "        else:\n",
    "            A,Omega,b = single_investor_view(Signal1,At1,Returns,trade_date,signal_sample_frequency,\n",
    "                                             number_of_signal_samples,rate_of_signal_decay)\n",
    "\n",
    "        A.dtype = 'float64'\n",
    "        mu,V = adapted_stats(Price,trade_date,horizon,sample_frequency,number_of_samples,rate_of_decay)\n",
    "        mu0 = (1+0.01*risk_free_rate[trade_date-1])**(float(horizon)/255.0)-1\n",
    "        rf.append(mu0)\n",
    "\n",
    "        benchmark_risk = sqrt(quad_form(e,V))/(n+1)\n",
    "        sigma = allowable_risk*benchmark_risk\n",
    "\n",
    "        xx0 = x0\n",
    "        xx = x\n",
    "        # An optimal weight will be generated using blacklitterman instead of markowitz model \n",
    "        x0,x =  blacklitterman(mu0,mu,V,sigma,xx0,xx,trans_cost,A,Omega,b,tau=TAU)\n",
    "        wealth = wealth*(x0+sum(x))\n",
    "\n",
    "        total = x0+sum(x)\n",
    "        x0 = x0/total\n",
    "        x = x/total\n",
    "\n",
    "        ###### PROCEED TO END OF TIME PERIOD AND ACCOUNT FOR GAINS, LOSSES ######\n",
    "\n",
    "        returns = (Price[trade_date+horizon-1,:]-Price[trade_date-1,:])/Price[trade_date-1,:]\n",
    "\n",
    "        multiplier = 1+mu0*x0+returns*x\n",
    "        wealth = multiplier*wealth\n",
    "\n",
    "        if(wealth<=0):\n",
    "            break  \n",
    "\n",
    "        x0 = (1+mu0)*x0/multiplier\n",
    "        x = np.multiply(x,np.transpose(1+returns))/multiplier\n",
    "\n",
    "        benchmark_x0 = (1+mu0)/(n+1)\n",
    "        benchmark_x = (1+returns)/(n+1)\n",
    "\n",
    "        z = rebalance_benchmark(benchmark_x0,benchmark_x,trans_cost) \n",
    "        benchmark_wealth = benchmark_wealth*(n+1)*z\n",
    "\n",
    "        portfolio_value.append(wealth)\n",
    "        benchmark_value.append(benchmark_wealth)\n",
    "        \n",
    "    markowitz_portfolio_value=runMarkowitz(False)    \n",
    "    if (printTrue == True):\n",
    "        #print \"your final bank account:\", x0 \n",
    "        #print \"your final risky portfolio:\", x \n",
    "        print \"your final wealth:\", wealth \n",
    "        print \"benchmark final wealth:\", benchmark_wealth \n",
    "        BL_Ret=float(wealth/initial_wealth)**(255.0/(horizon*number_rebalances))-1\n",
    "        print \"your annualized rate of return:\", BL_Ret\n",
    "        benchmark_annual_return = float(benchmark_wealth/initial_wealth)**(255.0/(horizon*number_rebalances))-1\n",
    "        print \"benchmark annualized rate of return:\", benchmark_annual_return\n",
    "        BlackLitterman_wealth = wealth\n",
    "\n",
    "        plt.figure(2)\n",
    "        #plt.figure(figsize=(8,6))\n",
    "        plt.title(\"Black Litterman Accumulated Wealth\")\n",
    "        plt.plot(range(len(benchmark_value)),benchmark_value,'b',label=\"benchmark\",lw = 1)\n",
    "        plt.plot(range(len(portfolio_value)),portfolio_value,'g',label=\"BlackLitterman\",lw = 3)\n",
    "        plt.plot(range(len(portfolio_value)),markowitz_portfolio_value,'r',label=\"Markowitz\",lw = 3)\n",
    "        plt.legend(prop={'size': 8})\n",
    "        plt.show()\n",
    "\n",
    "        print \"Markowitz_wealth: \", float(Markowitz_wealth),'annualized rate of return:',markowitz_ret\n",
    "        print \"BlackLitterman_wealth: \", float(BlackLitterman_wealth),'annualized rate of return:',BL_Ret\n",
    "        print \"Benchmark: \", benchmark_wealth,'annualized rate of return:',benchmark_annual_return\n",
    "\n",
    "\n",
    "    RF = np.array([np.array(rf)[i][0] for i in range(len(np.array(rf)))])\n",
    "    PX_M = np.array(markowitz_portfolio_value)\n",
    "    PX_B = np.array(portfolio_value)\n",
    "    BX = np.array(benchmark_value)\n",
    "    RP_M = np.array([(PX_M[i+1]/PX_M[i]-1.) for i in range(len(PX_M)-1)])\n",
    "    RP_B = np.array([(PX_B[i+1]/PX_B[i]-1.) for i in range(len(PX_B)-1)])\n",
    "    RB = np.array([(BX[i+1]/BX[i]-1.) for i in range(len(BX)-1)])\n",
    "    Sharpe_Ratio_Benchmark = np.mean(RB-RF)/np.std(RB-RF)\n",
    "    Sharpe_Ratio_Markowitz = np.mean(RP_M-RF)/np.std(RP_M-RF)\n",
    "    Sharpe_Ratio_BlackLitterman = np.mean(RP_B-RF)/np.std(RP_B-RF)\n",
    "    if (printTrue==True):\n",
    "        print \"Sharpe Ratio of Benchmark:\\t\",Sharpe_Ratio_Benchmark\n",
    "        print \"Sharpe Ratio of Markowitz:\\t\",Sharpe_Ratio_Markowitz\n",
    "        print \"Sharpe Ratio of BlackLitterman:\\t\",Sharpe_Ratio_BlackLitterman\n",
    "    return Sharpe_Ratio_BlackLitterman"
   ]
  },
  {
   "cell_type": "code",
   "execution_count": null,
   "metadata": {
    "collapsed": true
   },
   "outputs": [],
   "source": []
  },
  {
   "cell_type": "code",
   "execution_count": 41,
   "metadata": {},
   "outputs": [
    {
     "data": {
      "text/plain": [
       "'\\ntaulist = np.arange(0.5,5,0.5)\\nSRlist = []\\nfor TAO in taulist:\\n    print TAO\\n    SRlist.append(runBlackLitterman(TAO,False,3))\\n\\nplt.figure()\\nplt.plot(taulist,SRlist)\\nplt.show()\\n'"
      ]
     },
     "execution_count": 41,
     "metadata": {},
     "output_type": "execute_result"
    }
   ],
   "source": [
    "'''\n",
    "taulist = np.arange(0.5,5,0.5)\n",
    "SRlist = []\n",
    "for TAO in taulist:\n",
    "    print TAO\n",
    "    SRlist.append(runBlackLitterman(TAO,False,3))\n",
    "\n",
    "plt.figure()\n",
    "plt.plot(taulist,SRlist)\n",
    "plt.show()\n",
    "'''"
   ]
  },
  {
   "cell_type": "code",
   "execution_count": 46,
   "metadata": {},
   "outputs": [
    {
     "name": "stdout",
     "output_type": "stream",
     "text": [
      "your final wealth: [[ 18144.27281543]]\n",
      "benchmark final wealth: 24230.3804969\n",
      "your annualized rate of return: 0.154101359207\n",
      "benchmark annualized rate of return: 0.237268677596\n"
     ]
    },
    {
     "data": {
      "image/png": "[encoded data removed]",
      "text/plain": [
       "<matplotlib.figure.Figure at 0xeac2898>"
      ]
     },
     "metadata": {},
     "output_type": "display_data"
    },
    {
     "name": "stdout",
     "output_type": "stream",
     "text": [
      "\n"
     ]
    }
   ],
   "source": [
    "runMarkowitz(True)\n",
    "print \"\""
   ]
  },
  {
   "cell_type": "code",
   "execution_count": 52,
   "metadata": {},
   "outputs": [
    {
     "name": "stdout",
     "output_type": "stream",
     "text": [
      "your final wealth: [[ 14267.14160948]]\n",
      "benchmark final wealth: 24230.3804969\n",
      "your annualized rate of return: 0.0892516683688\n",
      "benchmark annualized rate of return: 0.237268677596\n"
     ]
    },
    {
     "data": {
      "image/png": "[encoded data removed]",
      "text/plain": [
       "<matplotlib.figure.Figure at 0xedc3b00>"
      ]
     },
     "metadata": {},
     "output_type": "display_data"
    },
    {
     "name": "stdout",
     "output_type": "stream",
     "text": [
      "Markowitz_wealth:  18144.2728154 annualized rate of return: 0.154101359207\n",
      "BlackLitterman_wealth:  14267.1416095 annualized rate of return: 0.0892516683688\n",
      "Benchmark:  24230.3804969 annualized rate of return: 0.237268677596\n",
      "Sharpe Ratio of Benchmark:\t0.407609770485\n",
      "Sharpe Ratio of Markowitz:\t0.290061461021\n",
      "Sharpe Ratio of BlackLitterman:\t0.181147494659\n",
      "\n"
     ]
    }
   ],
   "source": [
    "runBlackLitterman(3,True,2,At1=1,At2=2)\n",
    "print \"\""
   ]
  },
  {
   "cell_type": "code",
   "execution_count": 53,
   "metadata": {},
   "outputs": [
    {
     "name": "stdout",
     "output_type": "stream",
     "text": [
      "your final wealth: [[ 14639.7686915]]\n",
      "benchmark final wealth: 24230.3804969\n",
      "your annualized rate of return: 0.0960286588662\n",
      "benchmark annualized rate of return: 0.237268677596\n"
     ]
    },
    {
     "data": {
      "image/png": "[encoded data removed]",
      "text/plain": [
       "<matplotlib.figure.Figure at 0xe33a080>"
      ]
     },
     "metadata": {},
     "output_type": "display_data"
    },
    {
     "name": "stdout",
     "output_type": "stream",
     "text": [
      "Markowitz_wealth:  18144.2728154 annualized rate of return: 0.154101359207\n",
      "BlackLitterman_wealth:  14639.7686915 annualized rate of return: 0.0960286588662\n",
      "Benchmark:  24230.3804969 annualized rate of return: 0.237268677596\n",
      "Sharpe Ratio of Benchmark:\t0.407609770485\n",
      "Sharpe Ratio of Markowitz:\t0.290061461021\n",
      "Sharpe Ratio of BlackLitterman:\t0.190023080108\n",
      "\n"
     ]
    }
   ],
   "source": [
    "runBlackLitterman(3,True,1,At1=1)\n",
    "print \"\""
   ]
  },
  {
   "cell_type": "code",
   "execution_count": null,
   "metadata": {
    "collapsed": true
   },
   "outputs": [],
   "source": []
  }
 ],
 "metadata": {
  "kernelspec": {
   "display_name": "Python 2",
   "language": "python",
   "name": "python2"
  },
  "language_info": {
   "codemirror_mode": {
    "name": "ipython",
    "version": 2
   },
   "file_extension": ".py",
   "mimetype": "text/x-python",
   "name": "python",
   "nbconvert_exporter": "python",
   "pygments_lexer": "ipython2",
   "version": "2.7.13"
  }
 },
 "nbformat": 4,
 "nbformat_minor": 2
}
