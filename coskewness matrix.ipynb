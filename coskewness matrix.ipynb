{
 "cells": [
  {
   "cell_type": "code",
   "execution_count": 1,
   "metadata": {},
   "outputs": [
    {
     "name": "stderr",
     "output_type": "stream",
     "text": [
      "D:\\Anaconda3\\lib\\site-packages\\ipykernel_launcher.py:8: FutureWarning: The pandas.core.datetools module is deprecated and will be removed in a future version. Please use the pandas.tseries module instead.\n",
      "  \n"
     ]
    }
   ],
   "source": [
    "import pandas as pd\n",
    "import glob\n",
    "import numpy as np\n",
    "import matplotlib.pyplot as plt\n",
    "import statsmodels.formula.api as sm\n",
    "from sklearn import linear_model\n",
    "from scipy import stats\n",
    "from pandas.core import datetools\n",
    "%matplotlib inline"
   ]
  },
  {
   "cell_type": "code",
   "execution_count": 2,
   "metadata": {},
   "outputs": [],
   "source": [
    "new_company_list = [\n",
    " 'ASGN',\n",
    " 'AVA',\n",
    " 'B',\n",
    " 'BCPC',\n",
    " 'CACI',\n",
    " 'CBU',\n",
    " 'CHE',\n",
    " 'COLB',\n",
    " 'FCFS',\n",
    " 'FFIN',\n",
    " 'FIVE',\n",
    " 'GBCI',\n",
    " 'GDOT',\n",
    " 'HAE',\n",
    " 'HI',\n",
    " 'IART',\n",
    " 'JBT',\n",
    " 'KFY',\n",
    " 'KS',\n",
    " 'NEOG',\n",
    " 'NSP',\n",
    " 'PDCE',\n",
    " 'PSB',\n",
    " 'QLYS',\n",
    " 'SIGI',\n",
    " 'SKYW',\n",
    " 'STMP',\n",
    " 'TREX',\n",
    " 'VAC',\n",
    " 'WWE']"
   ]
  },
  {
   "cell_type": "code",
   "execution_count": 3,
   "metadata": {},
   "outputs": [],
   "source": [
    "month = {'JAN': 1, 'FEB':2, 'MAR': 3, 'APR': 4, 'MAY': 5, 'JUN': 6, 'JUL': 7, 'AUG': 8, 'SEP': 9, 'OCT':10, 'NOV': 11, 'DEC': 12}"
   ]
  },
  {
   "cell_type": "code",
   "execution_count": 4,
   "metadata": {},
   "outputs": [],
   "source": [
    "# Import high frequency data\n",
    "def import_data(path, company_list):\n",
    "    path = path               #r'D:\\data_raw' # Please put all .csv documents into one folder\n",
    "    company_list = company_list# Input company name as a list\n",
    "    company_data = {} # Store company data as a dictionary: {company_name1: data1, company_name2: data2, ...}\n",
    "    for company in company_list:\n",
    "        frame = pd.DataFrame()\n",
    "        list_ = []\n",
    "        allFiles = glob.glob(path + '/' +company +'_' + '*.csv')\n",
    "        allFiles.reverse()\n",
    "        #print (allFiles)\n",
    "        for file_ in allFiles:\n",
    "            df = pd.read_csv(file_, index_col=None, header=0, usecols=[0,1], skiprows=[1,])\n",
    "            list_.append(df)\n",
    "        frame = pd.concat(list_)\n",
    "        company_data[company] = frame\n",
    "        company_data[company].index = pd.RangeIndex(len(company_data[company].index))\n",
    "    return company_data"
   ]
  },
  {
   "cell_type": "code",
   "execution_count": 5,
   "metadata": {},
   "outputs": [],
   "source": [
    "company_data = import_data(r'./New_Data', new_company_list)"
   ]
  },
  {
   "cell_type": "code",
   "execution_count": 6,
   "metadata": {},
   "outputs": [
    {
     "data": {
      "text/html": [
       "<div>\n",
       "<style>\n",
       "    .dataframe thead tr:only-child th {\n",
       "        text-align: right;\n",
       "    }\n",
       "\n",
       "    .dataframe thead th {\n",
       "        text-align: left;\n",
       "    }\n",
       "\n",
       "    .dataframe tbody tr th {\n",
       "        vertical-align: top;\n",
       "    }\n",
       "</style>\n",
       "<table border=\"1\" class=\"dataframe\">\n",
       "  <thead>\n",
       "    <tr style=\"text-align: right;\">\n",
       "      <th></th>\n",
       "      <th>Time Interval</th>\n",
       "      <th>Close</th>\n",
       "    </tr>\n",
       "  </thead>\n",
       "  <tbody>\n",
       "    <tr>\n",
       "      <th>0</th>\n",
       "      <td>05MAR2013_00:00:00.000000</td>\n",
       "      <td>NaN</td>\n",
       "    </tr>\n",
       "    <tr>\n",
       "      <th>1</th>\n",
       "      <td>09:30 - 09:35</td>\n",
       "      <td>22.60</td>\n",
       "    </tr>\n",
       "    <tr>\n",
       "      <th>2</th>\n",
       "      <td>09:35 - 09:40</td>\n",
       "      <td>22.75</td>\n",
       "    </tr>\n",
       "    <tr>\n",
       "      <th>3</th>\n",
       "      <td>09:40 - 09:45</td>\n",
       "      <td>22.75</td>\n",
       "    </tr>\n",
       "    <tr>\n",
       "      <th>4</th>\n",
       "      <td>09:45 - 09:50</td>\n",
       "      <td>22.67</td>\n",
       "    </tr>\n",
       "  </tbody>\n",
       "</table>\n",
       "</div>"
      ],
      "text/plain": [
       "               Time Interval  Close\n",
       "0  05MAR2013_00:00:00.000000    NaN\n",
       "1              09:30 - 09:35  22.60\n",
       "2              09:35 - 09:40  22.75\n",
       "3              09:40 - 09:45  22.75\n",
       "4              09:45 - 09:50  22.67"
      ]
     },
     "execution_count": 6,
     "metadata": {},
     "output_type": "execute_result"
    }
   ],
   "source": [
    "company_data['ASGN'].head()"
   ]
  },
  {
   "cell_type": "code",
   "execution_count": 7,
   "metadata": {},
   "outputs": [],
   "source": [
    "#edit time => date time merge big data "
   ]
  },
  {
   "cell_type": "code",
   "execution_count": 8,
   "metadata": {},
   "outputs": [],
   "source": [
    "def set_multiindex(company_data, company_list):\n",
    "    for com in company_list:\n",
    "        #date_idx = []\n",
    "        company_data[com]['date'] = pd.Series(np.NaN, index = company_data[com].index)\n",
    "        date_idx_s = np.array(company_data[com].loc[pd.isnull(company_data[com].Close), ].index)\n",
    "        date_idx_e = np.append(date_idx_s[1:], company_data[com].shape[0])\n",
    "        for i, j in zip(date_idx_s, date_idx_e):\n",
    "            date = company_data[com]['Time Interval'][i][:9]\n",
    "            d = date[:2]\n",
    "            m = str(month[date[2:5]])\n",
    "            y = date[5:]\n",
    "            trans_date = d+'/'+m+'/'+y\n",
    "            #date_idx.append(trans_date)\n",
    "            #company_data[com]['Time Interval'].iloc[i+1:j] = trans_date +' ' + company_data[com]['Time Interval'].iloc[i+1:j]\n",
    "            company_data[com]['date'].iloc[i+1:j] = trans_date\n",
    "        company_data[com].set_index(['date', 'Time Interval'], inplace = True)\n",
    "        company_data[com].dropna(axis = 0, how = 'any', inplace = True)\n",
    "    return"
   ]
  },
  {
   "cell_type": "code",
   "execution_count": 17,
   "metadata": {},
   "outputs": [
    {
     "name": "stderr",
     "output_type": "stream",
     "text": [
      "D:\\Anaconda3\\lib\\site-packages\\pandas\\core\\indexing.py:179: SettingWithCopyWarning: \n",
      "A value is trying to be set on a copy of a slice from a DataFrame\n",
      "\n",
      "See the caveats in the documentation: http://pandas.pydata.org/pandas-docs/stable/indexing.html#indexing-view-versus-copy\n",
      "  self._setitem_with_indexer(indexer, value)\n"
     ]
    }
   ],
   "source": [
    "set_multiindex(company_data, new_company_list[25:30])"
   ]
  },
  {
   "cell_type": "code",
   "execution_count": 21,
   "metadata": {},
   "outputs": [],
   "source": [
    "company_data[com].head()"
   ]
  },
  {
   "cell_type": "code",
   "execution_count": 12,
   "metadata": {},
   "outputs": [],
   "source": [
    "import pickle"
   ]
  },
  {
   "cell_type": "code",
   "execution_count": null,
   "metadata": {},
   "outputs": [],
   "source": [
    "with open('processed_raw_data_new', 'f') as f:\n",
    "    pickle.dump(company_data, f)"
   ]
  }
 ],
 "metadata": {
  "kernelspec": {
   "display_name": "Python 3",
   "language": "python",
   "name": "python3"
  },
  "language_info": {
   "codemirror_mode": {
    "name": "ipython",
    "version": 3
   },
   "file_extension": ".py",
   "mimetype": "text/x-python",
   "name": "python",
   "nbconvert_exporter": "python",
   "pygments_lexer": "ipython3",
   "version": "3.6.3"
  }
 },
 "nbformat": 4,
 "nbformat_minor": 2
}
