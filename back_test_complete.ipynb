{
 "cells": [
  {
   "cell_type": "code",
   "execution_count": 16,
   "metadata": {
    "collapsed": true
   },
   "outputs": [],
   "source": [
    "import pandas as pd\n",
    "import glob\n",
    "import numpy as np\n",
    "import matplotlib.pyplot as plt\n",
    "from cvxpy import *"
   ]
  },
  {
   "cell_type": "code",
   "execution_count": 17,
   "metadata": {
    "collapsed": true
   },
   "outputs": [],
   "source": [
    "risk_free_rate = pd.read_csv(r'C:\\Users\\Administrator\\Desktop\\ORIE 5370\\Project\\DGS3MO_daily.csv', index_col=0, header=0)\n",
    "risk_free_rate = np.array(risk_free_rate)\n",
    "Price = pd.read_csv(r'C:\\Users\\Administrator\\Desktop\\ORIE 5370\\Project\\price_com_mat.csv', index_col=0, header=0)\n",
    "Price = np.mat(Price)\n",
    "#print risk_free_rate\n",
    "#print len(risk_free_rate)\n",
    "#print Price\n",
    "#print len(Price)"
   ]
  },
  {
   "cell_type": "code",
   "execution_count": 29,
   "metadata": {
    "collapsed": true
   },
   "outputs": [],
   "source": [
    "#Calculate mu and V\n",
    "##### PRECONDITION: sample_frequency*number_of_samples < trade_date  \n",
    "def adapted_stats(Price,trade_date,horizon,sample_frequency,number_of_samples,rate_of_decay):  \n",
    "    h = horizon # \n",
    "    P = Price # the Price matrix, each row refer to a date and each column refers to an asset\n",
    "    t_d = trade_date # the date you trade, 0,1,2...\n",
    "    s_f = sample_frequency #num\n",
    "    n_s = number_of_samples #num\n",
    "    r_d = rate_of_decay #num\n",
    "\n",
    "    s_d = t_d-1-np.arange(n_s+1)*s_f #reverse chronological\n",
    "    s_d = s_d[::-1] #chronological    \n",
    "    #sample dates, a row vector\n",
    "\n",
    "    S_P = P[s_d,:] #Sample Prices, a matrix\n",
    "\n",
    "    S_C_R = np.log(S_P[1:,:]/S_P[:-1,:]) #Sample Compound Returns, a matrix\n",
    "    #now it ’s time to construct the weight\n",
    "    w = (1.0-float(r_d))**np.arange(1,n_s+1)\n",
    "    w = w[::-1]\n",
    "    w = w/sum(w)\n",
    "    wt = np.transpose([w])  #weights, a non-negative vector that sums to 1\n",
    "    #print \"wt\", wt\n",
    "    mean_c_r = S_C_R.T*wt  #mean vector of compound returns\n",
    "    Cov_C_R = (S_C_R.T*np.diag(w)*S_C_R)-mean_c_r*np.transpose([mean_c_r])\n",
    "    #covariance matrix of compound returns\n",
    "    #print \"mean_c_r:\", mean_c_r\n",
    "    #print \"Cov_C_R\", Cov_C_R\n",
    "    adapted_mean_c_r = mean_c_r*(float(h)/float(s_f))\n",
    "    #adapting mean vector to reflect length of holding period\n",
    "    \n",
    "    Adapted_Cov_C_R = Cov_C_R*(float(h)/float(s_f))\n",
    "    #adapting covariance matrix to length of holding period\n",
    "    #print \"adapted_mean_c_r:\",adapted_mean_c_r\n",
    "    #print \"Adapted_Cov_C_R:\",Adapted_Cov_C_R\n",
    "    muu = np.exp(adapted_mean_c_r + 0.5*np.mat(np.diag(Adapted_Cov_C_R)).T)\n",
    "    #print muu\n",
    "    mu = muu - 1\n",
    "    #resulting mean vector of ARITHMETIC returns\n",
    "    \n",
    "    V = np.multiply((muu*np.transpose([muu.T])),(np.exp(Adapted_Cov_C_R)-1))\n",
    "    #resulting covariance matrix of ARITHMETIC returns\n",
    "    return mu,V"
   ]
  },
  {
   "cell_type": "code",
   "execution_count": 38,
   "metadata": {
    "collapsed": true
   },
   "outputs": [],
   "source": [
    "def markowitz(mu0,mu,V,sigma,xx0,xx,trans_cost):\n",
    "    n = len(mu)\n",
    "    U = np.linalg.cholesky(V)\n",
    "    x0 = Variable(1)\n",
    "    x = Variable(n)\n",
    "    y = Variable(n)\n",
    "    total_trans_cost = Variable(1)\n",
    "    objective = Maximize(mu0*x0+mu.T*x)\n",
    "    constraints = [norm(U*x)<=sigma,\n",
    "                   x0+sum_entries(x)+total_trans_cost==1,\n",
    "                   x==xx+y,\n",
    "                   trans_cost*sum_entries(abs(y))<=total_trans_cost,\n",
    "                   x0>=0,\n",
    "                   max_entries(abs(x-1.0/(n+1)))<=0.02,\n",
    "                   #0.05<=x,\n",
    "                   #x<=0.2,\n",
    "                   #x[1]+x[4]<=x[5]+x[6]+x[8],\n",
    "                   #sum_smallest(x,4)>=-1.25\n",
    "                   ]\n",
    "    prob = Problem(objective, constraints)\n",
    "    result = prob.solve()\n",
    "    prob.solve()  # Returns the optimal value.\n",
    "    #print \"status:\", prob.status\n",
    "    #print \"optimal value\", prob.value\n",
    "    #print \"optimal var\", x.value, y.value\n",
    "    return x0.value,x.value"
   ]
  },
  {
   "cell_type": "code",
   "execution_count": 39,
   "metadata": {
    "collapsed": true
   },
   "outputs": [],
   "source": [
    "def rebalance_benchmark(benchmark_x0,benchmark_x,trans_cost):\n",
    "    n = np.size(benchmark_x)\n",
    "    #print \"number of assets:\",n\n",
    "    #print \"sum:\",sum(benchmark_x)\n",
    "    z = Variable(1)\n",
    "    objective = Maximize(z)\n",
    "    constraints = [(n+1)*z <= benchmark_x0+sum_entries(benchmark_x)-trans_cost*sum_entries(abs(z-benchmark_x))]\n",
    "    prob = Problem(objective, constraints)\n",
    "    result = prob.solve(solver=ECOS)\n",
    "    prob.solve()\n",
    "    return z.value"
   ]
  },
  {
   "cell_type": "code",
   "execution_count": 42,
   "metadata": {},
   "outputs": [
    {
     "data": {
      "text/plain": [
       "[12.3]"
      ]
     },
     "execution_count": 42,
     "metadata": {},
     "output_type": "execute_result"
    }
   ],
   "source": [
    "a=[]\n",
    "a.append(12.3)\n",
    "a"
   ]
  },
  {
   "cell_type": "code",
   "execution_count": 43,
   "metadata": {},
   "outputs": [],
   "source": [
    "###############  BACKTEST  ###############\n",
    "n = np.size(Price)/len(Price) # n=number of risky assets\n",
    "e = np.ones([n,1])\n",
    "\n",
    "###############\n",
    "#### PARAMETERS\n",
    "#### (the following choices of parameters can easily be changed)\n",
    "\n",
    "horizon = 5 # rebalance daily\n",
    "##### PRECONDITION: sample_frequency*number_of_samples < trade_date  \n",
    "start = 120 # the day on which you are first given a portfolio to rebalance\n",
    "number_rebalances = 100 # the number of times the portfolio will be rebalanced \n",
    "number_of_samples = 20 # how many samples are to be used \n",
    "                      # in computing return avereages and covariances\n",
    "sample_frequency = 5 # 1 = daily, 2 = , etc.\n",
    "r_w_f_o_y_e = 0.4 # \"relative weight for one year earlier\" \n",
    "                 # -- a value .4 means that for the (exponential) weights \n",
    "                 # used in computing return averages and covariances, \n",
    "                 # the weight assigned to the time period one year ago\n",
    "                 # should be .4 times the weight assigned \n",
    "                 # to the most recent period.     \n",
    "allowable_risk = 1\n",
    "    # This is the level of risk relative to the benchmark portfolio,\n",
    "    #   where risk is measured as standard deviation of portfolio returns.\n",
    "    # Choosing this value to equal 1 means exactly the same amount of risk is allowed,\n",
    "    # whereas choosing 2 means twice as much risk is allowed as the benchmark, and so on.\n",
    "trans_cost = 0.005  # transaction cost\n",
    "wealth = 10000 # initial wealth measured in dollars, including money invested in assets\n",
    "               # (one dollar invested in an asset is considered as one dollar of wealth,\n",
    "               #  even though in liquidating the asset, transaction costs would be paid)   \n",
    "x0 = 0.3 # proportion of wealth in bank initially\n",
    "x = (0.7/n)*e # proportions in risky assets initially\n",
    "\n",
    "# Assume the benchmark portfolio is initally equal-weighted, with 1/(n+1) being the \n",
    "# proportion of wealth invested in each asset and in the bank.\n",
    "#### END OF PARAMETERS\n",
    "######################\n",
    "#rate_of_decay = 0\n",
    "rate_of_decay = 1 - r_w_f_o_y_e**(sample_frequency/52.0)\n",
    "initial_wealth = wealth\n",
    "benchmark_wealth = wealth\n",
    "portfolio_value = [wealth]\n",
    "benchmark_value = [wealth]\n",
    "rebalance_dates = start + horizon*np.arange(number_rebalances)\n",
    "\n",
    "for i in range(len(rebalance_dates)):\n",
    "    trade_date = rebalance_dates[i]\n",
    "\n",
    "    ###### REBALANCE YOUR PORTFOLIO AND PAY TRANSACTION COSTS ######\n",
    "    # It is more natural to rebalance the benchmark portfolio later #\n",
    "\n",
    "    mu,V = adapted_stats(Price,trade_date,horizon,sample_frequency,number_of_samples,rate_of_decay)\n",
    "    #[mu,V] = stats(Price,trade_date,sample_frequency,number_of_samples,rate_of_decay)\n",
    "    mu0 = (1+0.01*risk_free_rate[trade_date-1])**(float(horizon)/255.0)-1\n",
    "    \n",
    "    #benchmark_risk = sqrt(quad_form(e, V))/n # there are n assets in the portfolio\n",
    "    benchmark_risk = sqrt(quad_form(e,V))/(n+1)  # there are n+1 financial instruments\n",
    "                                                        # including the bank\n",
    "    sigma = allowable_risk*benchmark_risk\n",
    "    \n",
    "    xx0 = x0\n",
    "    xx = x\n",
    "    #print \"mu\", mu.T\n",
    "    x0,x =  markowitz(mu0,mu,V,sigma,xx0,xx,trans_cost)\n",
    "    #print \"x0:\", x0\n",
    "    #print \"x:\", x.T\n",
    "    wealth = wealth*(x0+sum(x))\n",
    "        # This is the same thing as updating your wealth by subtracting\n",
    "        # all transaction costs from the rebalancing.  Indeed, in rebalancing,\n",
    "        # the proportion of your wealth going to trans costs is 1 - x0 - sum(x).  \n",
    "        \n",
    "    total = x0+sum(x)\n",
    "    x0 = x0/total\n",
    "    x = x/total\n",
    "        # Rescaling x0 and x so that the sum is 1 (i.e., proportions of current wealth)\n",
    "    \n",
    "    ###### PROCEED TO END OF TIME PERIOD AND ACCOUNT FOR GAINS, LOSSES ######\n",
    "    \n",
    "    returns = (Price[trade_date+horizon-1,:]-Price[trade_date-1,:])/Price[trade_date-1,:]\n",
    "        # vector of actual returns for risky assets (this is a row vector)\n",
    "    \n",
    "    multiplier = 1+mu0*x0+returns*x\n",
    "    wealth = multiplier*wealth\n",
    "            # by leaving off the semicolon, you can watch how wealth changes as the program runs\n",
    "\n",
    "    if(wealth<=0):\n",
    "        break   # stops the program if bankruptcy occurs\n",
    "                # Not needed for benchmark portfolio (because it is long only)\n",
    "    \n",
    "    x0 = (1+mu0)*x0/multiplier\n",
    "    x = np.multiply(x,np.transpose(1+returns))/multiplier\n",
    "    # these are the proportions of current wealth invested in assets\n",
    "    # Now its time to rebalance the benchmark portfolio and pay transaction costs\n",
    "\n",
    "    \n",
    "    benchmark_x0 = (1+mu0)/(n+1)\n",
    "    benchmark_x = (1+returns)/(n+1)\n",
    "    # This gives how the equal-weighted portfolio has changed during the time period.\n",
    "    # The initial unit of wealth has become  benchmark_x0 + sum(benchmark_x).\n",
    "    # This new level of wealth needs to be distributed equally among the assets and bank.\n",
    "    # The optimal amount z to put into each one is determined by the following function,\n",
    "    # which finds the value z so as to minimize transaction costs\n",
    "    #print i,\"returns:\", returns\n",
    "    #print \"benchmark_x:\",benchmark_x\n",
    "    \n",
    "    z = rebalance_benchmark(benchmark_x0,benchmark_x,trans_cost) \n",
    "    benchmark_wealth = benchmark_wealth*(n+1)*z\n",
    "    #print \"z:\",z\n",
    "\n",
    "    # Until the end of the next time period, \n",
    "    # think of the benchmark portfolio as having been rebalanced\n",
    "    # with wealth divided equally, that is, the portion of wealth invested in\n",
    "    # each asset and the bank is 1/(n+1).\n",
    "    \n",
    "    portfolio_value.append(wealth)\n",
    "    benchmark_value.append(benchmark_wealth)"
   ]
  },
  {
   "cell_type": "code",
   "execution_count": 44,
   "metadata": {},
   "outputs": [
    {
     "name": "stdout",
     "output_type": "stream",
     "text": [
      "your final bank account: [[ 0.11075301]]\n",
      "your final risky portfolio: [[ 0.01220232]\n",
      " [ 0.05209227]\n",
      " [ 0.01225162]\n",
      " [ 0.01199279]\n",
      " [ 0.0121829 ]\n",
      " [ 0.01154199]\n",
      " [ 0.01216501]\n",
      " [ 0.01180668]\n",
      " [ 0.01216526]\n",
      " [ 0.01221578]\n",
      " [ 0.05436993]\n",
      " [ 0.01205291]\n",
      " [ 0.01177019]\n",
      " [ 0.01230104]\n",
      " [ 0.05240352]\n",
      " [ 0.05151806]\n",
      " [ 0.05362008]\n",
      " [ 0.01209213]\n",
      " [ 0.05337701]\n",
      " [ 0.05232225]\n",
      " [ 0.05300042]\n",
      " [ 0.05197707]\n",
      " [ 0.01186339]\n",
      " [ 0.05300943]\n",
      " [ 0.05299319]\n",
      " [ 0.01216725]\n",
      " [ 0.05273402]\n",
      " [ 0.05167783]\n",
      " [ 0.0115512 ]\n",
      " [ 0.01182946]]\n",
      "your final wealth: [[ 11685.86198995]]\n",
      "benchmark final wealth: 12636.7995814\n",
      "your annualized rate of return: 0.0826971261723\n",
      "benchmark annualized rate of return: 0.126769077239\n"
     ]
    }
   ],
   "source": [
    "print \"your final bank account:\", x0 \n",
    "print \"your final risky portfolio:\", x \n",
    "print \"your final wealth:\", wealth \n",
    "print \"benchmark final wealth:\", benchmark_wealth \n",
    "print \"your annualized rate of return:\", float(wealth/initial_wealth)**(255.0/(horizon*number_rebalances))-1\n",
    "benchmark_annual_return = float(benchmark_wealth/initial_wealth)**(255.0/(horizon*number_rebalances))-1\n",
    "print \"benchmark annualized rate of return:\", benchmark_annual_return"
   ]
  },
  {
   "cell_type": "code",
   "execution_count": 61,
   "metadata": {
    "scrolled": true
   },
   "outputs": [
    {
     "data": {
      "image/png": "[encoded data removed]",
      "text/plain": [
       "<matplotlib.figure.Figure at 0xe90b5c0>"
      ]
     },
     "metadata": {},
     "output_type": "display_data"
    }
   ],
   "source": [
    "plt.figure(1)\n",
    "plt.title(\"Accumulated Wealth\")\n",
    "plt.plot(range(len(benchmark_value)),benchmark_value,'b',label=\"benchmark\")\n",
    "plt.plot(range(len(portfolio_value)),portfolio_value,'r',label=\"portfolio\")\n",
    "plt.legend()\n",
    "plt.show()"
   ]
  },
  {
   "cell_type": "code",
   "execution_count": null,
   "metadata": {
    "collapsed": true
   },
   "outputs": [],
   "source": []
  }
 ],
 "metadata": {
  "kernelspec": {
   "display_name": "Python 2",
   "language": "python",
   "name": "python2"
  },
  "language_info": {
   "codemirror_mode": {
    "name": "ipython",
    "version": 2
   },
   "file_extension": ".py",
   "mimetype": "text/x-python",
   "name": "python",
   "nbconvert_exporter": "python",
   "pygments_lexer": "ipython2",
   "version": "2.7.13"
  }
 },
 "nbformat": 4,
 "nbformat_minor": 2
}
