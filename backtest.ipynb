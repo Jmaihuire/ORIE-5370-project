{
 "cells": [
  {
   "cell_type": "code",
   "execution_count": 9,
   "metadata": {
    "collapsed": true
   },
   "outputs": [],
   "source": [
    "import pandas as pd\n",
    "import glob\n",
    "import numpy as np\n",
    "import matplotlib.pyplot as plt\n",
    "from cvxpy import *"
   ]
  },
  {
   "cell_type": "code",
   "execution_count": 10,
   "metadata": {},
   "outputs": [
    {
     "data": {
      "text/plain": [
       "matrix([[   0.        ,   13.86605221,    1.        ],\n",
       "        [   1.        ,   14.54093031,    1.001     ],\n",
       "        [   2.        ,   16.11664458,    1.002     ],\n",
       "        ..., \n",
       "        [ 997.        ,   10.31566116,    1.997     ],\n",
       "        [ 998.        ,   15.17463768,    1.998     ],\n",
       "        [ 999.        ,   14.32408048,    1.999     ]])"
      ]
     },
     "execution_count": 10,
     "metadata": {},
     "output_type": "execute_result"
    }
   ],
   "source": [
    "#Import the price matrix\n",
    "Price = np.mat([range(1000),np.random.uniform(10,20,1000),np.arange(1.0,1.999,0.001)])\n",
    "Price = Price.T\n",
    "Price"
   ]
  },
  {
   "cell_type": "code",
   "execution_count": 11,
   "metadata": {
    "collapsed": true
   },
   "outputs": [],
   "source": [
    "#Calculate mu and V\n",
    "def adapted_stats(Price,trade_date,horizon,sample_frequency,number_of_samples,rate_of_decay):\n",
    "    h = horizon #num\n",
    "    P = Price #mat\n",
    "    t_d = trade_date #num\n",
    "    s_f = sample_frequency #num\n",
    "    n_s = number_of_samples #num\n",
    "    r_d = rate_of_decay #num\n",
    "\n",
    "    s_d = t_d-1-np.arange(n_s+1)*s_f #reverse chronological\n",
    "    s_d = s_d[::-1] #chronological    \n",
    "    #sample dates, a row vector\n",
    "\n",
    "    S_P = P[s_d,:]\n",
    "    #Sample Prices, a matrix\n",
    "\n",
    "    S_C_R = np.log(S_P[1:,:]/S_P[:-1,:])\n",
    "    #Sample Compound Returns, a matrix\n",
    "\n",
    "    #now it ’s time to construct the weight\n",
    "    w = (1-r_d)**np.arange(1,n_s+1)\n",
    "    w = w[::-1]\n",
    "    w = w/sum(w)\n",
    "    wt = np.transpose([w])\n",
    "    #weights, a non-negative vector that sums to 1\n",
    "\n",
    "    mean_c_r = S_C_R.T*wt\n",
    "    #mean vector of compound returns\n",
    "\n",
    "    Cov_C_R = (S_C_R.T*np.diag(w)*S_C_R)-mean_c_r*np.transpose([mean_c_r])\n",
    "    #covariance matrix of compound returns\n",
    "\n",
    "    adapted_mean_c_r = mean_c_r*(h/s_f)\n",
    "    #adapting mean vector to reflect length of holding period\n",
    "\n",
    "    Adapted_Cov_C_R = Cov_C_R*(h/s_f)\n",
    "    #adapting covariance matrix to length of holding period\n",
    "\n",
    "    muu = np.exp(adapted_mean_c_r + 0.5*np.mat(np.diag(Adapted_Cov_C_R)).T)\n",
    "    mu = muu - 1\n",
    "    #resulting mean vector of ARITHMETIC returns\n",
    "\n",
    "    V = np.multiply((muu*np.transpose([muu.T])),(np.exp(Adapted_Cov_C_R)-1))\n",
    "    #resulting covariance matrix of ARITHMETIC returns\n",
    "\n",
    "    return mu,V"
   ]
  },
  {
   "cell_type": "code",
   "execution_count": 12,
   "metadata": {},
   "outputs": [
    {
     "data": {
      "text/plain": [
       "(matrix([[ 0.01061058],\n",
       "         [ 0.01912234],\n",
       "         [ 0.00339784]]),\n",
       " matrix([[  1.04681374e-07,  -3.23144383e-06,   1.07286128e-08],\n",
       "         [ -3.23144383e-06,   8.00096506e-02,  -3.80096347e-07],\n",
       "         [  1.07286128e-08,  -3.80096347e-07,   1.09991842e-09]]))"
      ]
     },
     "execution_count": 12,
     "metadata": {},
     "output_type": "execute_result"
    }
   ],
   "source": [
    "mu,V = adapted_stats(Price,500,5,5,10,0.004)\n",
    "mu,V"
   ]
  },
  {
   "cell_type": "code",
   "execution_count": 16,
   "metadata": {
    "collapsed": true
   },
   "outputs": [],
   "source": [
    "from cvxpy import *\n",
    "import numpy as np\n",
    "def markowitz(mu,V,sigma,xx,trans_cost,total_trans_cost):\n",
    "    # Problem Data\n",
    "    n = len(mu)\n",
    "    U = np.linalg.cholesky(V)\n",
    "    e = np.ones([n,1])\n",
    "    # Construct the problem.\n",
    "    x = Variable(n)\n",
    "    y = Variable(n)\n",
    "    objective = Maximize(mu.T*x)\n",
    "    constraints = [quad_form(x, V)<=sigma**2,\n",
    "                   sum_entries(x)==1,\n",
    "                   x-y==xx,\n",
    "                   trans_cost*sum_entries(abs(y))<=total_trans_cost,\n",
    "                   max_entries(abs(x))<=0.5,]\n",
    "    prob = Problem(objective, constraints)\n",
    "    result = prob.solve(solver=ECOS)\n",
    "    prob.solve()  # Returns the optimal value.\n",
    "    print \"status:\", prob.status\n",
    "    print \"optimal value\", prob.value\n",
    "    print \"optimal var\", x.value, y.value\n",
    "    return x.value,y.value"
   ]
  },
  {
   "cell_type": "code",
   "execution_count": 17,
   "metadata": {},
   "outputs": [
    {
     "name": "stdout",
     "output_type": "stream",
     "text": [
      "status: optimal\n",
      "optimal value 0.0125636481668\n",
      "optimal var [[ 0.5       ]\n",
      " [ 0.35355247]\n",
      " [ 0.14644753]] [[ 0.5       ]\n",
      " [ 0.35355247]\n",
      " [ 0.14644753]]\n"
     ]
    },
    {
     "data": {
      "text/plain": [
       "(matrix([[ 0.5       ],\n",
       "         [ 0.35355247],\n",
       "         [ 0.14644753]]), matrix([[ 0.5       ],\n",
       "         [ 0.35355247],\n",
       "         [ 0.14644753]]))"
      ]
     },
     "execution_count": 17,
     "metadata": {},
     "output_type": "execute_result"
    }
   ],
   "source": [
    "xx = np.zeros(3)\n",
    "markowitz(mu,V,0.1,xx,0,50)"
   ]
  },
  {
   "cell_type": "code",
   "execution_count": null,
   "metadata": {
    "collapsed": true
   },
   "outputs": [],
   "source": [
    "def rebalance_benchmark(benchmark_x0,benchmark_x,trans_cost):\n",
    "    n = length(benchmark_x);\n",
    "    z = Variable(1)\n",
    "    objective = Maximize(z)\n",
    "    constraints = [(n+1)*z<=benchmark_x0+sum_entries(benchmark_x)-trans_cost*sum_entries(abs(z-benchmark_x))]\n",
    "    prob = Problem(objective, constraints)\n",
    "    result = prob.solve(solver=ECOS)\n",
    "    prob.solve()\n",
    "    return z.value"
   ]
  },
  {
   "cell_type": "code",
   "execution_count": 2,
   "metadata": {},
   "outputs": [
    {
     "data": {
      "text/plain": [
       "6"
      ]
     },
     "execution_count": 2,
     "metadata": {},
     "output_type": "execute_result"
    }
   ],
   "source": [
    "import numpy as np\n",
    "sum(np.arange(4))\n",
    "\n"
   ]
  },
  {
   "cell_type": "code",
   "execution_count": null,
   "metadata": {
    "collapsed": true
   },
   "outputs": [],
   "source": [
    "#function  multi_period_hw2_complete\n",
    "\n",
    "#load hw2.mat; \n",
    "\n",
    "n = np.size(Price)/len(Price) # n=number of risky assets\n",
    "e = np.ones([n,1])\n",
    "\n",
    "###############\n",
    "#### PARAMETERS\n",
    "#### (the following choices of parameters can easily be changed)\n",
    "\n",
    "horizon = 4 # rebalance monthly (every 4 weeks)\n",
    "start = 400 # the week in which you are first given a portfolio to rebalance\n",
    "number_rebalances = 100 # the number of times the portfolio will be rebalanced \n",
    "number_of_samples = 100 # how many samples are to be used \n",
    "                        # in computing return avereages and covariances\n",
    "sample_frequency = 2 # 1 = weekly, 2 = biweekly, etc.\n",
    "r_w_f_o_y_e = 0.4 # \"relative weight for one year earlier\" \n",
    "                 # -- a value .4 means that for the (exponential) weights \n",
    "                 # used in computing return averages and covariances, \n",
    "                 # the weight assigned to the time period one year ago\n",
    "                 # should be .4 times the weight assigned \n",
    "                 # to the most recent period.    \t \n",
    "allowable_risk = 1\n",
    "    # This is the level of risk relative to the benchmark portfolio,\n",
    "    #   where risk is measured as standard deviation of portfolio returns.\n",
    "    # Choosing this value to equal 1 means exactly the same amount of risk is allowed,\n",
    "    # whereas choosing 2 means twice as much risk is allowed as the benchmark, and so on.\n",
    "trans_cost = 0.005  # transaction cost\n",
    "wealth = 10000 # initial wealth measured in dollars, including money invested in assets\n",
    "               # (one dollar invested in an asset is considered as one dollar of wealth,\n",
    "               #  even though in liquidating the asset, transaction costs would be paid)   \n",
    "x0 = 0.3 # proportion of wealth in bank initially\n",
    "x = (0.7/n)*e # proportions in risky assets initially\n",
    "\n",
    "# Assume the benchmark portfolio is initally equal-weighted, with 1/(n+1) being the \n",
    "# proportion of wealth invested in each asset and in the bank.\n",
    "#### END OF PARAMETERS\n",
    "######################\n",
    "\n",
    "rate_of_decay = 1 - r_w_f_o_y_e**(sample_frequency/52)\n",
    "initial_wealth = wealth\n",
    "benchmark_wealth = wealth\n",
    "rebalance_dates = start + horizon*np.arange(number_rebalances)\n",
    "\n",
    "for i = range(len(rebalance_dates)):\n",
    "    trade_date = rebalance_dates[i]\n",
    "\n",
    "    ###### REBALANCE YOUR PORTFOLIO AND PAY TRANSACTION COSTS ######\n",
    "    # It is more natural to rebalance the benchmark portfolio later #\n",
    "\n",
    "    mu,V = adapted_stats(Price,trade_date,horizon,sample_frequency,number_of_samples,rate_of_decay)\n",
    "    #[mu,V] = stats(Price,trade_date,sample_frequency,number_of_samples,rate_of_decay)\n",
    "    #mu0 = (1+.01*risk_free_rate(trade_date-1))^(horizon/52) - 1;\n",
    "    \n",
    "    benchmark_risk = sqrt(np.transpose([e])*V*e)/(n+1)  # there are n+1 financial instruments\n",
    "                                                        # including the bank\n",
    "    sigma = allowable_risk*benchmark_risk\n",
    "    \n",
    "    #xx0 = x0\n",
    "    xx = x\n",
    "    x =  markowitz(mu,V,sigma,xx,trans_cost,total_trans_cost)\n",
    "    \n",
    "    wealth = wealth*(x0 + sum(x))\n",
    "        # This is the same thing as updating your wealth by subtracting\n",
    "        # all transaction costs from the rebalancing.  Indeed, in rebalancing,\n",
    "        # the proportion of your wealth going to trans costs is 1 - x0 - sum(x).  \n",
    "        \n",
    "    total = sum(x)\n",
    "    #x0 = x0/total\n",
    "    x = x/total\n",
    "        # Rescaling x0 and x so that the sum is 1 (i.e., proportions of current wealth)\n",
    "    \n",
    "    ###### PROCEED TO END OF TIME PERIOD AND ACCOUNT FOR GAINS, LOSSES ######\n",
    "    \n",
    "    returns = (Price(trade_date+horizon-1,:)-Price(trade_date-1,:))./Price(trade_date-1,:)\n",
    "        # vector of actual returns for risky assets (this is a row vector)\n",
    "    \n",
    "    multiplier = 1+returns*x\n",
    "    wealth = multiplier*wealth\n",
    "            # by leaving off the semicolon, you can watch how wealth changes as the program runs\n",
    "\n",
    "    if(wealth<=0):\n",
    "        break   # stops the program if bankruptcy occurs\n",
    "                # Not needed for benchmark portfolio (because it is long only)\n",
    "    \n",
    "    #x0 = (1+mu0)*x0/multiplier;\n",
    "    x = np.multiply(x,np.transpose(1+returns))/multiplier\n",
    "    # these are the proportions of current wealth invested in assets\n",
    "    \n",
    "    # Now its time to rebalance the benchmark portfolio and pay transaction costs\n",
    "    \n",
    "    benchmark_x0 = (1+mu0)/(n+1);\n",
    "    benchmark_x = (1+returns)/(n+1);\n",
    "    # This gives how the equal-weighted portfolio has changed during the time period.\n",
    "    # The initial unit of wealth has become  benchmark_x0 + sum(benchmark_x).\n",
    "    % This new level of wealth needs to be distributed equally among the assets and bank.\n",
    "    % The optimal amount z to put into each one is determined by the following function,\n",
    "    % which finds the value z so as to minimize transaction costs\n",
    "    \n",
    "    z = rebalance_benchmark(benchmark_x0,benchmark_x,trans_cost);  \t\n",
    "\tbenchmark_wealth = benchmark_wealth*(n+1)*z;\n",
    "\t\t\n",
    "\t% Until the end of the next time period, \n",
    "\t% think of the benchmark portfolio as having been rebalanced\n",
    "\t% with wealth divided equally, that is, the portion of wealth invested in\n",
    "\t% each asset and the bank is 1/(n+1).\t\n",
    "    \n",
    "end\n",
    "\n",
    "fprintf('your final bank account %f\\n');\n",
    "x0\n",
    "fprintf('your final risky portfolio %f\\n');\n",
    "x\n",
    "\n",
    "fprintf('your final wealth %f\\n',wealth);\n",
    "fprintf('benchmark final wealth %f\\n',benchmark_wealth);\n",
    "\n",
    "fprintf('your annualized rate of return %f\\n', (wealth/initial_wealth)^(52/(horizon*number_rebalances))-1);\n",
    "fprintf('benchmark annualized rate of return %f\\n', (benchmark_wealth/initial_wealth)^(52/(horizon*number_rebalances))-1);"
   ]
  }
 ],
 "metadata": {
  "kernelspec": {
   "display_name": "Python 2",
   "language": "python",
   "name": "python2"
  },
  "language_info": {
   "codemirror_mode": {
    "name": "ipython",
    "version": 2
   },
   "file_extension": ".py",
   "mimetype": "text/x-python",
   "name": "python",
   "nbconvert_exporter": "python",
   "pygments_lexer": "ipython2",
   "version": "2.7.13"
  }
 },
 "nbformat": 4,
 "nbformat_minor": 2
}
